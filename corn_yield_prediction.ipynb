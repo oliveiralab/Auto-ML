{
 "cells": [
  {
   "cell_type": "markdown",
   "metadata": {},
   "source": [
    "# Corn Yield Prediction Using H2O AutoML\n",
    "## 🚀 Google Colab Tutorial\n",
    "\n",
    "> **💡 Running in Google Colab**: This notebook is optimized for Google Colab execution. All dependencies will be installed automatically.\n",
    "\n",
    "## Tutorial Overview\n",
    "\n",
    "This tutorial demonstrates how to build an automated machine learning (AutoML) model for predicting corn yield using H2O.ai. We'll cover the complete workflow from data preparation to model training and prediction.\n",
    "\n",
    "### What You'll Learn:\n",
    "- How to set up H2O.ai environment in Google Colab\n",
    "- Loading and preprocessing agricultural data from Google Drive\n",
    "- Training an AutoML model for regression\n",
    "- Evaluating model performance\n",
    "- Making predictions on new data\n",
    "- Applying the model to spatial data for mapping\n",
    "\n",
    "### Prerequisites:\n",
    "- Google account (for Colab and Drive access)\n",
    "- Basic Python knowledge\n",
    "- Understanding of machine learning concepts\n",
    "- Familiarity with agricultural/environmental data\n",
    "\n",
    "### 📁 Data Setup Instructions:\n",
    "1. **Upload your data files** to Google Drive:\n",
    "   - `111DAS.txt` - Training data with corn yield and environmental features\n",
    "   - `all_t18_m.txt` - Spatial data for mapping (optional)\n",
    "\n",
    "2. **Update file paths** in the code cells to match your Google Drive folder structure\n",
    "\n",
    "3. **Grant permissions** when prompted to access Google Drive\n",
    "\n",
    "### Dataset:\n",
    "We'll be working with corn yield data that includes various environmental and topographic features collected at different days after sowing (DAS).\n",
    "\n",
    "---\n",
    "\n",
    "## Step 1: Environment Setup\n",
    "\n",
    "First, we need to install Java (required for H2O) and set up our Colab environment."
   ]
  },
  {
   "cell_type": "code",
   "execution_count": null,
   "metadata": {
    "colab": {
     "base_uri": "https://localhost:8080/"
    },
    "executionInfo": {
     "elapsed": 3436,
     "status": "ok",
     "timestamp": 1662429045343,
     "user": {
      "displayName": "Mailson Oliveira",
      "userId": "07757836318271289118"
     },
     "user_tz": 300
    },
    "id": "pSIa4gM4cL7b",
    "outputId": "8045a529-3910-4309-f80f-170e29aff21b"
   },
   "outputs": [
    {
     "name": "stdout",
     "output_type": "stream",
     "text": [
      "Reading package lists... Done\n",
      "Building dependency tree       \n",
      "Reading state information... Done\n",
      "default-jre is already the newest version (2:1.11-68ubuntu1~18.04.1).\n",
      "The following package was automatically installed and is no longer required:\n",
      "  libnvidia-common-460\n",
      "Use 'apt autoremove' to remove it.\n",
      "0 upgraded, 0 newly installed, 0 to remove and 20 not upgraded.\n",
      "openjdk version \"11.0.16\" 2022-07-19\n",
      "OpenJDK Runtime Environment (build 11.0.16+8-post-Ubuntu-0ubuntu118.04)\n",
      "OpenJDK 64-Bit Server VM (build 11.0.16+8-post-Ubuntu-0ubuntu118.04, mixed mode, sharing)\n"
     ]
    }
   ],
   "source": [
    "# Install Java (required for H2O.ai)\n",
    "# Google Colab doesn't have Java installed by default, so we need to install it\n",
    "\n",
    "print(\"🔧 Installing Java Runtime Environment...\")\n",
    "!apt-get update -q\n",
    "!apt-get install default-jre -y -q\n",
    "\n",
    "# Verify Java installation\n",
    "print(\"✅ Checking Java installation:\")\n",
    "!java -version"
   ]
  },
  {
   "cell_type": "markdown",
   "metadata": {},
   "source": [
    "### Java Installation Check\n",
    "\n",
    "H2O.ai requires Java Runtime Environment (JRE) to function properly. Let's verify that Java is installed and accessible on our system."
   ]
  },
  {
   "cell_type": "code",
   "execution_count": null,
   "metadata": {
    "colab": {
     "base_uri": "https://localhost:8080/"
    },
    "executionInfo": {
     "elapsed": 3886,
     "status": "ok",
     "timestamp": 1662429049226,
     "user": {
      "displayName": "Mailson Oliveira",
      "userId": "07757836318271289118"
     },
     "user_tz": 300
    },
    "id": "E7xRTnyrcMzB",
    "outputId": "273bfbd6-2cab-40d2-aa41-b217be7f47e4"
   },
   "outputs": [
    {
     "name": "stdout",
     "output_type": "stream",
     "text": [
      "Looking in indexes: https://pypi.org/simple, https://us-python.pkg.dev/colab-wheels/public/simple/\n",
      "Requirement already satisfied: h2o in /usr/local/lib/python3.7/dist-packages (3.36.1.4)\n",
      "Requirement already satisfied: requests in /usr/local/lib/python3.7/dist-packages (from h2o) (2.23.0)\n",
      "Requirement already satisfied: future in /usr/local/lib/python3.7/dist-packages (from h2o) (0.16.0)\n",
      "Requirement already satisfied: tabulate in /usr/local/lib/python3.7/dist-packages (from h2o) (0.8.10)\n",
      "Requirement already satisfied: idna<3,>=2.5 in /usr/local/lib/python3.7/dist-packages (from requests->h2o) (2.10)\n",
      "Requirement already satisfied: certifi>=2017.4.17 in /usr/local/lib/python3.7/dist-packages (from requests->h2o) (2022.6.15)\n",
      "Requirement already satisfied: urllib3!=1.25.0,!=1.25.1,<1.26,>=1.21.1 in /usr/local/lib/python3.7/dist-packages (from requests->h2o) (1.24.3)\n",
      "Requirement already satisfied: chardet<4,>=3.0.2 in /usr/local/lib/python3.7/dist-packages (from requests->h2o) (3.0.4)\n"
     ]
    }
   ],
   "source": [
    "# Install H2O.ai - An open source machine learning platform\n",
    "# H2O provides AutoML capabilities that automatically try multiple algorithms\n",
    "# and hyperparameter combinations to find the best model\n",
    "\n",
    "print(\"📦 Installing H2O.ai...\")\n",
    "!pip install h2o\n",
    "\n",
    "# Import and check version\n",
    "import h2o\n",
    "print(f\"✅ H2O.ai installed successfully!\")\n",
    "print(f\"H2O version: {h2o.__version__}\")"
   ]
  },
  {
   "cell_type": "markdown",
   "metadata": {},
   "source": [
    "## Step 2: Install H2O.ai\n",
    "\n",
    "H2O.ai is an open-source machine learning platform that provides:\n",
    "- **AutoML**: Automatically trains and tunes multiple models\n",
    "- **Scalability**: Can handle large datasets efficiently  \n",
    "- **Interpretability**: Provides model explanations and insights\n",
    "- **Easy Integration**: Works well with Python and R"
   ]
  },
  {
   "cell_type": "code",
   "execution_count": null,
   "metadata": {
    "colab": {
     "base_uri": "https://localhost:8080/",
     "height": 343
    },
    "executionInfo": {
     "elapsed": 9,
     "status": "ok",
     "timestamp": 1662429049226,
     "user": {
      "displayName": "Mailson Oliveira",
      "userId": "07757836318271289118"
     },
     "user_tz": 300
    },
    "id": "QzxTDfIPb7-b",
    "outputId": "89ac3209-9be5-4008-a3a8-ddc73ff71e8e"
   },
   "outputs": [
    {
     "name": "stdout",
     "output_type": "stream",
     "text": [
      "Checking whether there is an H2O instance running at http://localhost:54321 . connected.\n"
     ]
    },
    {
     "data": {
      "text/html": [
       "<div style=\"overflow:auto\"><table style=\"width:50%\"><tr><td>H2O_cluster_uptime:</td>\n",
       "<td>29 mins 23 secs</td></tr>\n",
       "<tr><td>H2O_cluster_timezone:</td>\n",
       "<td>Etc/UTC</td></tr>\n",
       "<tr><td>H2O_data_parsing_timezone:</td>\n",
       "<td>UTC</td></tr>\n",
       "<tr><td>H2O_cluster_version:</td>\n",
       "<td>3.36.1.4</td></tr>\n",
       "<tr><td>H2O_cluster_version_age:</td>\n",
       "<td>1 month and 2 days </td></tr>\n",
       "<tr><td>H2O_cluster_name:</td>\n",
       "<td>H2O_from_python_unknownUser_i6fqgb</td></tr>\n",
       "<tr><td>H2O_cluster_total_nodes:</td>\n",
       "<td>1</td></tr>\n",
       "<tr><td>H2O_cluster_free_memory:</td>\n",
       "<td>3.143 Gb</td></tr>\n",
       "<tr><td>H2O_cluster_total_cores:</td>\n",
       "<td>2</td></tr>\n",
       "<tr><td>H2O_cluster_allowed_cores:</td>\n",
       "<td>2</td></tr>\n",
       "<tr><td>H2O_cluster_status:</td>\n",
       "<td>locked, healthy</td></tr>\n",
       "<tr><td>H2O_connection_url:</td>\n",
       "<td>http://localhost:54321</td></tr>\n",
       "<tr><td>H2O_connection_proxy:</td>\n",
       "<td>{\"http\": null, \"https\": null}</td></tr>\n",
       "<tr><td>H2O_internal_security:</td>\n",
       "<td>False</td></tr>\n",
       "<tr><td>Python_version:</td>\n",
       "<td>3.7.13 final</td></tr></table></div>"
      ],
      "text/plain": [
       "--------------------------  ----------------------------------\n",
       "H2O_cluster_uptime:         29 mins 23 secs\n",
       "H2O_cluster_timezone:       Etc/UTC\n",
       "H2O_data_parsing_timezone:  UTC\n",
       "H2O_cluster_version:        3.36.1.4\n",
       "H2O_cluster_version_age:    1 month and 2 days\n",
       "H2O_cluster_name:           H2O_from_python_unknownUser_i6fqgb\n",
       "H2O_cluster_total_nodes:    1\n",
       "H2O_cluster_free_memory:    3.143 Gb\n",
       "H2O_cluster_total_cores:    2\n",
       "H2O_cluster_allowed_cores:  2\n",
       "H2O_cluster_status:         locked, healthy\n",
       "H2O_connection_url:         http://localhost:54321\n",
       "H2O_connection_proxy:       {\"http\": null, \"https\": null}\n",
       "H2O_internal_security:      False\n",
       "Python_version:             3.7.13 final\n",
       "--------------------------  ----------------------------------"
      ]
     },
     "metadata": {},
     "output_type": "display_data"
    }
   ],
   "source": [
    "# Import H2O libraries\n",
    "import h2o\n",
    "from h2o.automl import H2OAutoML\n",
    "\n",
    "# Initialize H2O cluster\n",
    "# nthreads = -1 means use all available CPU cores for parallel processing\n",
    "# This starts a local H2O cluster that will be used for all machine learning operations\n",
    "h2o.init(nthreads=-1)\n",
    "\n",
    "print(\"H2O cluster initialized successfully!\")\n",
    "print(f\"H2O cluster info:\")\n",
    "print(f\"- Version: {h2o.cluster().cloud_name}\")\n",
    "print(f\"- Nodes: {h2o.cluster().cloud_size}\")\n",
    "print(f\"- Memory: {h2o.cluster().free_memory}\")"
   ]
  },
  {
   "cell_type": "markdown",
   "metadata": {},
   "source": [
    "## Step 3: Initialize H2O Cluster\n",
    "\n",
    "Before we can use H2O for machine learning, we need to start an H2O cluster. This creates a computational environment where our models will be trained and predictions will be made."
   ]
  },
  {
   "cell_type": "code",
   "execution_count": null,
   "metadata": {
    "colab": {
     "base_uri": "https://localhost:8080/"
    },
    "executionInfo": {
     "elapsed": 663,
     "status": "ok",
     "timestamp": 1662429049883,
     "user": {
      "displayName": "Mailson Oliveira",
      "userId": "07757836318271289118"
     },
     "user_tz": 300
    },
    "id": "WROGJhRWcc4L",
    "outputId": "53c698eb-ce90-4a6b-c954-d28d30034152"
   },
   "outputs": [
    {
     "name": "stdout",
     "output_type": "stream",
     "text": [
      "Drive already mounted at /content/drive; to attempt to forcibly remount, call drive.mount(\"/content/drive\", force_remount=True).\n"
     ]
    }
   ],
   "source": [
    "# Mount Google Drive to access data files\n",
    "# This allows us to read data files stored in Google Drive\n",
    "\n",
    "from google.colab import drive\n",
    "drive.mount('/content/drive')\n",
    "\n",
    "print(\"✅ Google Drive mounted successfully!\")\n",
    "print(\"You can now access files in your Google Drive at /content/drive/My Drive/\")\n",
    "\n",
    "# Display current directory contents\n",
    "import os\n",
    "print(f\"\\nCurrent working directory: {os.getcwd()}\")\n",
    "print(f\"Files in /content/: {os.listdir('/content/')}\")"
   ]
  },
  {
   "cell_type": "markdown",
   "metadata": {},
   "source": [
    "## Step 4: Data Access Setup\n",
    "\n",
    "We'll use Google Drive to store and access our data files. Make sure to:\n",
    "\n",
    "1. **Upload your data file** (`111DAS.txt`) to your Google Drive\n",
    "2. **Update the file path** in the next cell to match your Google Drive folder structure\n",
    "3. **Grant permissions** when prompted to access Google Drive\n",
    "\n",
    "### Expected Data Format:\n",
    "Your data file should be a tab-separated or comma-separated file containing:\n",
    "- **produtividade**: Corn yield values (target variable)\n",
    "- **Environmental features**: Such as elevation, slope, temperature, precipitation, vegetation indices\n",
    "- **Other features**: Any additional variables that might influence corn yield"
   ]
  },
  {
   "cell_type": "code",
   "execution_count": null,
   "metadata": {
    "colab": {
     "base_uri": "https://localhost:8080/",
     "height": 98
    },
    "executionInfo": {
     "elapsed": 482,
     "status": "ok",
     "timestamp": 1662431000349,
     "user": {
      "displayName": "Mailson Oliveira",
      "userId": "07757836318271289118"
     },
     "user_tz": 300
    },
    "id": "MPss8Cxwcgjp",
    "outputId": "fae71ae5-1f84-4efe-867d-9bb00b3f7b9c"
   },
   "outputs": [
    {
     "name": "stdout",
     "output_type": "stream",
     "text": [
      "Parse progress: |████████████████████████████████████████████████████████████████| (done) 100%\n"
     ]
    },
    {
     "data": {
      "text/html": [
       "<table>\n",
       "<thead>\n",
       "<tr><th style=\"text-align: right;\">  _EVI_0310m</th><th style=\"text-align: right;\">  GNDVI_0310</th><th style=\"text-align: right;\">  _MNLI_0310</th><th style=\"text-align: right;\">  _NDVI_0310</th><th style=\"text-align: right;\">  _NLI_0310m</th><th style=\"text-align: right;\">  _SAVI_0310</th><th style=\"text-align: right;\">  _SR_0310me</th><th style=\"text-align: right;\">  produtividade</th></tr>\n",
       "</thead>\n",
       "<tbody>\n",
       "<tr><td style=\"text-align: right;\">      0.7199</td><td style=\"text-align: right;\">      0.8118</td><td style=\"text-align: right;\">      0.3633</td><td style=\"text-align: right;\">      0.8744</td><td style=\"text-align: right;\">      0.7449</td><td style=\"text-align: right;\">      0.6486</td><td style=\"text-align: right;\">     14.943 </td><td style=\"text-align: right;\">        8634.52</td></tr>\n",
       "<tr><td style=\"text-align: right;\">      0.7055</td><td style=\"text-align: right;\">      0.8054</td><td style=\"text-align: right;\">      0.3463</td><td style=\"text-align: right;\">      0.871 </td><td style=\"text-align: right;\">      0.7323</td><td style=\"text-align: right;\">      0.638 </td><td style=\"text-align: right;\">     14.5435</td><td style=\"text-align: right;\">        6896.37</td></tr>\n",
       "</tbody>\n",
       "</table>"
      ]
     },
     "metadata": {},
     "output_type": "display_data"
    },
    {
     "data": {
      "text/plain": []
     },
     "execution_count": 34,
     "metadata": {},
     "output_type": "execute_result"
    }
   ],
   "source": [
    "# Load the corn yield dataset from Google Drive\n",
    "# Update this path to match where you stored your data file in Google Drive\n",
    "data_file = '/content/drive/My Drive/111DAS.txt'  # Update this path to your actual file location\n",
    "\n",
    "print(\"📂 Loading corn yield dataset...\")\n",
    "print(f\"Attempting to load: {data_file}\")\n",
    "\n",
    "try:\n",
    "    # H2O can read various file formats: CSV, TXT, Parquet, etc.\n",
    "    df = h2o.import_file(data_file)\n",
    "    print(f\"✅ Successfully loaded data from Google Drive!\")\n",
    "    print(f\"Dataset shape: {df.shape}\")\n",
    "    \n",
    "except Exception as e:\n",
    "    print(f\"❌ Error loading data from Google Drive: {e}\")\n",
    "    print(\"\\n🔄 Creating sample data for demonstration...\")\n",
    "    print(\"Please upload your '111DAS.txt' file to Google Drive and update the path above\")\n",
    "    \n",
    "    # Create sample agricultural data for demonstration\n",
    "    import pandas as pd\n",
    "    import numpy as np\n",
    "    \n",
    "    np.random.seed(42)\n",
    "    n_samples = 1000\n",
    "    sample_data = pd.DataFrame({\n",
    "        'produtividade': np.random.normal(8.5, 1.5, n_samples),  # Corn yield (target variable)\n",
    "        'elevation': np.random.normal(500, 100, n_samples),      # Elevation in meters\n",
    "        'slope': np.random.exponential(5, n_samples),            # Slope in degrees\n",
    "        'aspect': np.random.uniform(0, 360, n_samples),          # Aspect in degrees\n",
    "        'ndvi': np.random.uniform(0.3, 0.9, n_samples),         # Vegetation index\n",
    "        'temperature': np.random.normal(25, 5, n_samples),       # Temperature\n",
    "        'precipitation': np.random.exponential(50, n_samples),   # Precipitation\n",
    "        'TWI': np.random.lognormal(2, 0.5, n_samples),          # Topographic Wetness Index\n",
    "        'TPI': np.random.normal(0, 10, n_samples)               # Topographic Position Index\n",
    "    })\n",
    "    \n",
    "    # Save sample data to Colab local storage\n",
    "    sample_data.to_csv('/content/111DAS.txt', sep='\\t', index=False)\n",
    "    df = h2o.import_file('/content/111DAS.txt')\n",
    "    print(\"✅ Sample data created and loaded successfully!\")\n",
    "\n",
    "# Remove TWI and TPI columns as specified in original code\n",
    "# These topographic indices might be correlated with other features or of poor quality\n",
    "if 'TWI' in df.columns and 'TPI' in df.columns:\n",
    "    df = df.drop(['TWI', 'TPI'], axis=1)\n",
    "    print(f\"\\nDataset shape after removing TWI and TPI: {df.shape}\")\n",
    "else:\n",
    "    print(f\"\\nDataset shape: {df.shape}\")\n",
    "\n",
    "# Display first few rows to understand the data structure\n",
    "print(\"\\nFirst 2 rows of the dataset:\")\n",
    "df.head(2)"
   ]
  },
  {
   "cell_type": "markdown",
   "metadata": {},
   "source": [
    "## Step 5: Data Loading and Preprocessing\n",
    "\n",
    "Now we'll load our corn yield dataset. The dataset contains various environmental and topographic features that might influence corn productivity:\n",
    "\n",
    "- **produtividade**: Corn yield (our target variable to predict)\n",
    "- **Environmental factors**: Temperature, precipitation, vegetation indices\n",
    "- **Topographic features**: Elevation, slope, aspect\n",
    "- **TWI & TPI**: Topographic Wetness Index and Topographic Position Index (we'll remove these)"
   ]
  },
  {
   "cell_type": "code",
   "execution_count": null,
   "metadata": {
    "executionInfo": {
     "elapsed": 1,
     "status": "ok",
     "timestamp": 1662431000519,
     "user": {
      "displayName": "Mailson Oliveira",
      "userId": "07757836318271289118"
     },
     "user_tz": 300
    },
    "id": "pSHobL_6yH0r"
   },
   "outputs": [],
   "source": [
    "# Define the target variable (what we want to predict)\n",
    "# 'produtividade' is Portuguese for 'productivity' or 'yield'\n",
    "y = \"produtividade\"\n",
    "\n",
    "print(f\"Target variable: {y}\")\n",
    "print(\"This is the column we want to predict using all other features in the dataset.\")\n",
    "\n",
    "# Let's also examine the target variable distribution\n",
    "print(f\"\\nTarget variable statistics:\")\n",
    "df[y].describe()"
   ]
  },
  {
   "cell_type": "markdown",
   "metadata": {},
   "source": [
    "## Step 6: Define Target Variable\n",
    "\n",
    "In machine learning, we need to specify what we want to predict. This is called the **target variable** or **dependent variable**."
   ]
  },
  {
   "cell_type": "code",
   "execution_count": null,
   "metadata": {
    "executionInfo": {
     "elapsed": 2,
     "status": "ok",
     "timestamp": 1662431001090,
     "user": {
      "displayName": "Mailson Oliveira",
      "userId": "07757836318271289118"
     },
     "user_tz": 300
    },
    "id": "JCROpIsdgzNQ"
   },
   "outputs": [],
   "source": [
    "# Split the data into training and testing sets\n",
    "# This is crucial for evaluating model performance on unseen data\n",
    "\n",
    "# ratios = [0.8] means 80% for training, 20% for testing\n",
    "# seed = 1 ensures reproducible results (same split every time)\n",
    "splits = df.split_frame(ratios=[0.8], seed=1)\n",
    "train = splits[0]  # Training set (80% of data)\n",
    "test = splits[1]   # Testing set (20% of data)\n",
    "\n",
    "print(f\"Training set size: {train.shape}\")\n",
    "print(f\"Testing set size: {test.shape}\")\n",
    "print(f\"Split ratio: {train.nrows / df.nrows:.1%} training, {test.nrows / df.nrows:.1%} testing\")\n",
    "\n",
    "# Why do we split the data?\n",
    "print(\"\\n📚 Why split data?\")\n",
    "print(\"- Training set: Used to train the model (learn patterns)\")\n",
    "print(\"- Testing set: Used to evaluate model performance on unseen data\")\n",
    "print(\"- This helps us estimate how well our model will perform in real-world scenarios\")"
   ]
  },
  {
   "cell_type": "markdown",
   "metadata": {},
   "source": [
    "## Step 7: Data Splitting\n",
    "\n",
    "Before training our model, we need to split our data into training and testing sets. This is a fundamental practice in machine learning to evaluate how well our model generalizes to new, unseen data."
   ]
  },
  {
   "cell_type": "code",
   "execution_count": null,
   "metadata": {
    "colab": {
     "base_uri": "https://localhost:8080/",
     "height": 1000
    },
    "executionInfo": {
     "elapsed": 592509,
     "status": "ok",
     "timestamp": 1662431594108,
     "user": {
      "displayName": "Mailson Oliveira",
      "userId": "07757836318271289118"
     },
     "user_tz": 300
    },
    "id": "wwEnrdXwfLeo",
    "outputId": "c807bafd-5b9a-41eb-cd75-f98a4df0bca4"
   },
   "outputs": [
    {
     "name": "stdout",
     "output_type": "stream",
     "text": [
      "AutoML progress: |\n",
      "02:23:21.164: _min_rows param, The dataset size is too small to split for min_rows=100.0: must have at least 200.0 (weighted) rows, but have only 65.0.\n",
      "\n",
      "███████████████████████████████████████████████████████████████| (done) 100%\n",
      "Model Details\n",
      "=============\n",
      "H2OXGBoostEstimator :  XGBoost\n",
      "Model Key:  XGBoost_lr_search_selection_AutoML_3_20220906_22320_select_grid_model_2\n",
      "\n",
      "\n",
      "Model Summary: \n"
     ]
    },
    {
     "data": {
      "text/html": [
       "\n",
       "  <div id=\"df-23f2e265-4345-4dde-93c0-b4dbf30b5cc9\">\n",
       "    <div class=\"colab-df-container\">\n",
       "      <div>\n",
       "<style scoped>\n",
       "    .dataframe tbody tr th:only-of-type {\n",
       "        vertical-align: middle;\n",
       "    }\n",
       "\n",
       "    .dataframe tbody tr th {\n",
       "        vertical-align: top;\n",
       "    }\n",
       "\n",
       "    .dataframe thead th {\n",
       "        text-align: right;\n",
       "    }\n",
       "</style>\n",
       "<table border=\"1\" class=\"dataframe\">\n",
       "  <thead>\n",
       "    <tr style=\"text-align: right;\">\n",
       "      <th></th>\n",
       "      <th></th>\n",
       "      <th>number_of_trees</th>\n",
       "    </tr>\n",
       "  </thead>\n",
       "  <tbody>\n",
       "    <tr>\n",
       "      <th>0</th>\n",
       "      <td></td>\n",
       "      <td>68.0</td>\n",
       "    </tr>\n",
       "  </tbody>\n",
       "</table>\n",
       "</div>\n",
       "      <button class=\"colab-df-convert\" onclick=\"convertToInteractive('df-23f2e265-4345-4dde-93c0-b4dbf30b5cc9')\"\n",
       "              title=\"Convert this dataframe to an interactive table.\"\n",
       "              style=\"display:none;\">\n",
       "        \n",
       "  <svg xmlns=\"http://www.w3.org/2000/svg\" height=\"24px\"viewBox=\"0 0 24 24\"\n",
       "       width=\"24px\">\n",
       "    <path d=\"M0 0h24v24H0V0z\" fill=\"none\"/>\n",
       "    <path d=\"M18.56 5.44l.94 2.06.94-2.06 2.06-.94-2.06-.94-.94-2.06-.94 2.06-2.06.94zm-11 1L8.5 8.5l.94-2.06 2.06-.94-2.06-.94L8.5 2.5l-.94 2.06-2.06.94zm10 10l.94 2.06.94-2.06 2.06-.94-2.06-.94-.94-2.06-.94 2.06-2.06.94z\"/><path d=\"M17.41 7.96l-1.37-1.37c-.4-.4-.92-.59-1.43-.59-.52 0-1.04.2-1.43.59L10.3 9.45l-7.72 7.72c-.78.78-.78 2.05 0 2.83L4 21.41c.39.39.9.59 1.41.59.51 0 1.02-.2 1.41-.59l7.78-7.78 2.81-2.81c.8-.78.8-2.07 0-2.86zM5.41 20L4 18.59l7.72-7.72 1.47 1.35L5.41 20z\"/>\n",
       "  </svg>\n",
       "      </button>\n",
       "      \n",
       "  <style>\n",
       "    .colab-df-container {\n",
       "      display:flex;\n",
       "      flex-wrap:wrap;\n",
       "      gap: 12px;\n",
       "    }\n",
       "\n",
       "    .colab-df-convert {\n",
       "      background-color: #E8F0FE;\n",
       "      border: none;\n",
       "      border-radius: 50%;\n",
       "      cursor: pointer;\n",
       "      display: none;\n",
       "      fill: #1967D2;\n",
       "      height: 32px;\n",
       "      padding: 0 0 0 0;\n",
       "      width: 32px;\n",
       "    }\n",
       "\n",
       "    .colab-df-convert:hover {\n",
       "      background-color: #E2EBFA;\n",
       "      box-shadow: 0px 1px 2px rgba(60, 64, 67, 0.3), 0px 1px 3px 1px rgba(60, 64, 67, 0.15);\n",
       "      fill: #174EA6;\n",
       "    }\n",
       "\n",
       "    [theme=dark] .colab-df-convert {\n",
       "      background-color: #3B4455;\n",
       "      fill: #D2E3FC;\n",
       "    }\n",
       "\n",
       "    [theme=dark] .colab-df-convert:hover {\n",
       "      background-color: #434B5C;\n",
       "      box-shadow: 0px 1px 3px 1px rgba(0, 0, 0, 0.15);\n",
       "      filter: drop-shadow(0px 1px 2px rgba(0, 0, 0, 0.3));\n",
       "      fill: #FFFFFF;\n",
       "    }\n",
       "  </style>\n",
       "\n",
       "      <script>\n",
       "        const buttonEl =\n",
       "          document.querySelector('#df-23f2e265-4345-4dde-93c0-b4dbf30b5cc9 button.colab-df-convert');\n",
       "        buttonEl.style.display =\n",
       "          google.colab.kernel.accessAllowed ? 'block' : 'none';\n",
       "\n",
       "        async function convertToInteractive(key) {\n",
       "          const element = document.querySelector('#df-23f2e265-4345-4dde-93c0-b4dbf30b5cc9');\n",
       "          const dataTable =\n",
       "            await google.colab.kernel.invokeFunction('convertToInteractive',\n",
       "                                                     [key], {});\n",
       "          if (!dataTable) return;\n",
       "\n",
       "          const docLinkHtml = 'Like what you see? Visit the ' +\n",
       "            '<a target=\"_blank\" href=https://colab.research.google.com/notebooks/data_table.ipynb>data table notebook</a>'\n",
       "            + ' to learn more about interactive tables.';\n",
       "          element.innerHTML = '';\n",
       "          dataTable['output_type'] = 'display_data';\n",
       "          await google.colab.output.renderOutput(dataTable, element);\n",
       "          const docLink = document.createElement('div');\n",
       "          docLink.innerHTML = docLinkHtml;\n",
       "          element.appendChild(docLink);\n",
       "        }\n",
       "      </script>\n",
       "    </div>\n",
       "  </div>\n",
       "  "
      ],
      "text/plain": [
       "     number_of_trees\n",
       "0               68.0"
      ]
     },
     "metadata": {},
     "output_type": "display_data"
    },
    {
     "name": "stdout",
     "output_type": "stream",
     "text": [
      "\n",
      "\n",
      "ModelMetricsRegression: xgboost\n",
      "** Reported on train data. **\n",
      "\n",
      "MSE: 8.200283700686235\n",
      "RMSE: 2.8636137485153674\n",
      "MAE: 2.1016639122596152\n",
      "RMSLE: 0.0004016814955596981\n",
      "Mean Residual Deviance: 8.200283700686235\n",
      "\n",
      "ModelMetricsRegression: xgboost\n",
      "** Reported on cross-validation data. **\n",
      "\n",
      "MSE: 2706397.706030857\n",
      "RMSE: 1645.1132806074045\n",
      "MAE: 1146.8661884014423\n",
      "RMSLE: 0.2463794150684428\n",
      "Mean Residual Deviance: 2706397.706030857\n",
      "\n",
      "Cross-Validation Metrics Summary: \n"
     ]
    },
    {
     "data": {
      "text/html": [
       "\n",
       "  <div id=\"df-474d0a71-1b94-4a04-9666-032664626496\">\n",
       "    <div class=\"colab-df-container\">\n",
       "      <div>\n",
       "<style scoped>\n",
       "    .dataframe tbody tr th:only-of-type {\n",
       "        vertical-align: middle;\n",
       "    }\n",
       "\n",
       "    .dataframe tbody tr th {\n",
       "        vertical-align: top;\n",
       "    }\n",
       "\n",
       "    .dataframe thead th {\n",
       "        text-align: right;\n",
       "    }\n",
       "</style>\n",
       "<table border=\"1\" class=\"dataframe\">\n",
       "  <thead>\n",
       "    <tr style=\"text-align: right;\">\n",
       "      <th></th>\n",
       "      <th></th>\n",
       "      <th>mean</th>\n",
       "      <th>sd</th>\n",
       "      <th>cv_1_valid</th>\n",
       "      <th>cv_2_valid</th>\n",
       "      <th>cv_3_valid</th>\n",
       "      <th>cv_4_valid</th>\n",
       "      <th>cv_5_valid</th>\n",
       "    </tr>\n",
       "  </thead>\n",
       "  <tbody>\n",
       "    <tr>\n",
       "      <th>0</th>\n",
       "      <td>mae</td>\n",
       "      <td>1.146866e+03</td>\n",
       "      <td>1.709506e+02</td>\n",
       "      <td>1.266302e+03</td>\n",
       "      <td>9.217377e+02</td>\n",
       "      <td>1.111023e+03</td>\n",
       "      <td>1.075073e+03</td>\n",
       "      <td>1.360196e+03</td>\n",
       "    </tr>\n",
       "    <tr>\n",
       "      <th>1</th>\n",
       "      <td>mean_residual_deviance</td>\n",
       "      <td>2.706398e+06</td>\n",
       "      <td>1.224773e+06</td>\n",
       "      <td>4.367202e+06</td>\n",
       "      <td>1.544711e+06</td>\n",
       "      <td>1.980618e+06</td>\n",
       "      <td>2.001181e+06</td>\n",
       "      <td>3.638278e+06</td>\n",
       "    </tr>\n",
       "    <tr>\n",
       "      <th>2</th>\n",
       "      <td>mse</td>\n",
       "      <td>2.706398e+06</td>\n",
       "      <td>1.224773e+06</td>\n",
       "      <td>4.367202e+06</td>\n",
       "      <td>1.544711e+06</td>\n",
       "      <td>1.980618e+06</td>\n",
       "      <td>2.001181e+06</td>\n",
       "      <td>3.638278e+06</td>\n",
       "    </tr>\n",
       "    <tr>\n",
       "      <th>3</th>\n",
       "      <td>r2</td>\n",
       "      <td>-8.083401e-01</td>\n",
       "      <td>7.490609e-01</td>\n",
       "      <td>-1.444277e+00</td>\n",
       "      <td>-4.022028e-02</td>\n",
       "      <td>-3.353400e-02</td>\n",
       "      <td>-1.607020e+00</td>\n",
       "      <td>-9.166492e-01</td>\n",
       "    </tr>\n",
       "    <tr>\n",
       "      <th>4</th>\n",
       "      <td>residual_deviance</td>\n",
       "      <td>2.706398e+06</td>\n",
       "      <td>1.224773e+06</td>\n",
       "      <td>4.367202e+06</td>\n",
       "      <td>1.544711e+06</td>\n",
       "      <td>1.980618e+06</td>\n",
       "      <td>2.001181e+06</td>\n",
       "      <td>3.638278e+06</td>\n",
       "    </tr>\n",
       "    <tr>\n",
       "      <th>5</th>\n",
       "      <td>rmse</td>\n",
       "      <td>1.612410e+03</td>\n",
       "      <td>3.649160e+02</td>\n",
       "      <td>2.089785e+03</td>\n",
       "      <td>1.242864e+03</td>\n",
       "      <td>1.407344e+03</td>\n",
       "      <td>1.414631e+03</td>\n",
       "      <td>1.907427e+03</td>\n",
       "    </tr>\n",
       "    <tr>\n",
       "      <th>6</th>\n",
       "      <td>rmsle</td>\n",
       "      <td>2.411247e-01</td>\n",
       "      <td>5.658751e-02</td>\n",
       "      <td>3.320181e-01</td>\n",
       "      <td>2.166203e-01</td>\n",
       "      <td>2.059225e-01</td>\n",
       "      <td>1.922071e-01</td>\n",
       "      <td>2.588553e-01</td>\n",
       "    </tr>\n",
       "  </tbody>\n",
       "</table>\n",
       "</div>\n",
       "      <button class=\"colab-df-convert\" onclick=\"convertToInteractive('df-474d0a71-1b94-4a04-9666-032664626496')\"\n",
       "              title=\"Convert this dataframe to an interactive table.\"\n",
       "              style=\"display:none;\">\n",
       "        \n",
       "  <svg xmlns=\"http://www.w3.org/2000/svg\" height=\"24px\"viewBox=\"0 0 24 24\"\n",
       "       width=\"24px\">\n",
       "    <path d=\"M0 0h24v24H0V0z\" fill=\"none\"/>\n",
       "    <path d=\"M18.56 5.44l.94 2.06.94-2.06 2.06-.94-2.06-.94-.94-2.06-.94 2.06-2.06.94zm-11 1L8.5 8.5l.94-2.06 2.06-.94-2.06-.94L8.5 2.5l-.94 2.06-2.06.94zm10 10l.94 2.06.94-2.06 2.06-.94-2.06-.94-.94-2.06-.94 2.06-2.06.94z\"/><path d=\"M17.41 7.96l-1.37-1.37c-.4-.4-.92-.59-1.43-.59-.52 0-1.04.2-1.43.59L10.3 9.45l-7.72 7.72c-.78.78-.78 2.05 0 2.83L4 21.41c.39.39.9.59 1.41.59.51 0 1.02-.2 1.41-.59l7.78-7.78 2.81-2.81c.8-.78.8-2.07 0-2.86zM5.41 20L4 18.59l7.72-7.72 1.47 1.35L5.41 20z\"/>\n",
       "  </svg>\n",
       "      </button>\n",
       "      \n",
       "  <style>\n",
       "    .colab-df-container {\n",
       "      display:flex;\n",
       "      flex-wrap:wrap;\n",
       "      gap: 12px;\n",
       "    }\n",
       "\n",
       "    .colab-df-convert {\n",
       "      background-color: #E8F0FE;\n",
       "      border: none;\n",
       "      border-radius: 50%;\n",
       "      cursor: pointer;\n",
       "      display: none;\n",
       "      fill: #1967D2;\n",
       "      height: 32px;\n",
       "      padding: 0 0 0 0;\n",
       "      width: 32px;\n",
       "    }\n",
       "\n",
       "    .colab-df-convert:hover {\n",
       "      background-color: #E2EBFA;\n",
       "      box-shadow: 0px 1px 2px rgba(60, 64, 67, 0.3), 0px 1px 3px 1px rgba(60, 64, 67, 0.15);\n",
       "      fill: #174EA6;\n",
       "    }\n",
       "\n",
       "    [theme=dark] .colab-df-convert {\n",
       "      background-color: #3B4455;\n",
       "      fill: #D2E3FC;\n",
       "    }\n",
       "\n",
       "    [theme=dark] .colab-df-convert:hover {\n",
       "      background-color: #434B5C;\n",
       "      box-shadow: 0px 1px 3px 1px rgba(0, 0, 0, 0.15);\n",
       "      filter: drop-shadow(0px 1px 2px rgba(0, 0, 0, 0.3));\n",
       "      fill: #FFFFFF;\n",
       "    }\n",
       "  </style>\n",
       "\n",
       "      <script>\n",
       "        const buttonEl =\n",
       "          document.querySelector('#df-474d0a71-1b94-4a04-9666-032664626496 button.colab-df-convert');\n",
       "        buttonEl.style.display =\n",
       "          google.colab.kernel.accessAllowed ? 'block' : 'none';\n",
       "\n",
       "        async function convertToInteractive(key) {\n",
       "          const element = document.querySelector('#df-474d0a71-1b94-4a04-9666-032664626496');\n",
       "          const dataTable =\n",
       "            await google.colab.kernel.invokeFunction('convertToInteractive',\n",
       "                                                     [key], {});\n",
       "          if (!dataTable) return;\n",
       "\n",
       "          const docLinkHtml = 'Like what you see? Visit the ' +\n",
       "            '<a target=\"_blank\" href=https://colab.research.google.com/notebooks/data_table.ipynb>data table notebook</a>'\n",
       "            + ' to learn more about interactive tables.';\n",
       "          element.innerHTML = '';\n",
       "          dataTable['output_type'] = 'display_data';\n",
       "          await google.colab.output.renderOutput(dataTable, element);\n",
       "          const docLink = document.createElement('div');\n",
       "          docLink.innerHTML = docLinkHtml;\n",
       "          element.appendChild(docLink);\n",
       "        }\n",
       "      </script>\n",
       "    </div>\n",
       "  </div>\n",
       "  "
      ],
      "text/plain": [
       "                                   mean            sd    cv_1_valid  \\\n",
       "0                     mae  1.146866e+03  1.709506e+02  1.266302e+03   \n",
       "1  mean_residual_deviance  2.706398e+06  1.224773e+06  4.367202e+06   \n",
       "2                     mse  2.706398e+06  1.224773e+06  4.367202e+06   \n",
       "3                      r2 -8.083401e-01  7.490609e-01 -1.444277e+00   \n",
       "4       residual_deviance  2.706398e+06  1.224773e+06  4.367202e+06   \n",
       "5                    rmse  1.612410e+03  3.649160e+02  2.089785e+03   \n",
       "6                   rmsle  2.411247e-01  5.658751e-02  3.320181e-01   \n",
       "\n",
       "     cv_2_valid    cv_3_valid    cv_4_valid    cv_5_valid  \n",
       "0  9.217377e+02  1.111023e+03  1.075073e+03  1.360196e+03  \n",
       "1  1.544711e+06  1.980618e+06  2.001181e+06  3.638278e+06  \n",
       "2  1.544711e+06  1.980618e+06  2.001181e+06  3.638278e+06  \n",
       "3 -4.022028e-02 -3.353400e-02 -1.607020e+00 -9.166492e-01  \n",
       "4  1.544711e+06  1.980618e+06  2.001181e+06  3.638278e+06  \n",
       "5  1.242864e+03  1.407344e+03  1.414631e+03  1.907427e+03  \n",
       "6  2.166203e-01  2.059225e-01  1.922071e-01  2.588553e-01  "
      ]
     },
     "metadata": {},
     "output_type": "display_data"
    },
    {
     "name": "stdout",
     "output_type": "stream",
     "text": [
      "\n",
      "Scoring History: \n"
     ]
    },
    {
     "data": {
      "text/html": [
       "\n",
       "  <div id=\"df-7ccc4c16-7b1a-404b-a116-9d3dea4f7135\">\n",
       "    <div class=\"colab-df-container\">\n",
       "      <div>\n",
       "<style scoped>\n",
       "    .dataframe tbody tr th:only-of-type {\n",
       "        vertical-align: middle;\n",
       "    }\n",
       "\n",
       "    .dataframe tbody tr th {\n",
       "        vertical-align: top;\n",
       "    }\n",
       "\n",
       "    .dataframe thead th {\n",
       "        text-align: right;\n",
       "    }\n",
       "</style>\n",
       "<table border=\"1\" class=\"dataframe\">\n",
       "  <thead>\n",
       "    <tr style=\"text-align: right;\">\n",
       "      <th></th>\n",
       "      <th></th>\n",
       "      <th>timestamp</th>\n",
       "      <th>duration</th>\n",
       "      <th>number_of_trees</th>\n",
       "      <th>training_rmse</th>\n",
       "      <th>training_mae</th>\n",
       "      <th>training_deviance</th>\n",
       "    </tr>\n",
       "  </thead>\n",
       "  <tbody>\n",
       "    <tr>\n",
       "      <th>0</th>\n",
       "      <td></td>\n",
       "      <td>2022-09-06 02:32:44</td>\n",
       "      <td>0.741 sec</td>\n",
       "      <td>0.0</td>\n",
       "      <td>7094.269911</td>\n",
       "      <td>6968.640340</td>\n",
       "      <td>5.032867e+07</td>\n",
       "    </tr>\n",
       "    <tr>\n",
       "      <th>1</th>\n",
       "      <td></td>\n",
       "      <td>2022-09-06 02:32:44</td>\n",
       "      <td>0.749 sec</td>\n",
       "      <td>10.0</td>\n",
       "      <td>860.216208</td>\n",
       "      <td>756.388709</td>\n",
       "      <td>7.399719e+05</td>\n",
       "    </tr>\n",
       "    <tr>\n",
       "      <th>2</th>\n",
       "      <td></td>\n",
       "      <td>2022-09-06 02:32:44</td>\n",
       "      <td>0.762 sec</td>\n",
       "      <td>20.0</td>\n",
       "      <td>184.269918</td>\n",
       "      <td>142.833616</td>\n",
       "      <td>3.395540e+04</td>\n",
       "    </tr>\n",
       "    <tr>\n",
       "      <th>3</th>\n",
       "      <td></td>\n",
       "      <td>2022-09-06 02:32:44</td>\n",
       "      <td>0.768 sec</td>\n",
       "      <td>30.0</td>\n",
       "      <td>74.243373</td>\n",
       "      <td>53.249414</td>\n",
       "      <td>5.512078e+03</td>\n",
       "    </tr>\n",
       "    <tr>\n",
       "      <th>4</th>\n",
       "      <td></td>\n",
       "      <td>2022-09-06 02:32:44</td>\n",
       "      <td>0.774 sec</td>\n",
       "      <td>40.0</td>\n",
       "      <td>28.193191</td>\n",
       "      <td>22.472720</td>\n",
       "      <td>7.948560e+02</td>\n",
       "    </tr>\n",
       "    <tr>\n",
       "      <th>5</th>\n",
       "      <td></td>\n",
       "      <td>2022-09-06 02:32:44</td>\n",
       "      <td>0.782 sec</td>\n",
       "      <td>50.0</td>\n",
       "      <td>11.983558</td>\n",
       "      <td>9.687759</td>\n",
       "      <td>1.436057e+02</td>\n",
       "    </tr>\n",
       "    <tr>\n",
       "      <th>6</th>\n",
       "      <td></td>\n",
       "      <td>2022-09-06 02:32:44</td>\n",
       "      <td>0.790 sec</td>\n",
       "      <td>60.0</td>\n",
       "      <td>4.972435</td>\n",
       "      <td>3.776078</td>\n",
       "      <td>2.472511e+01</td>\n",
       "    </tr>\n",
       "    <tr>\n",
       "      <th>7</th>\n",
       "      <td></td>\n",
       "      <td>2022-09-06 02:32:44</td>\n",
       "      <td>0.798 sec</td>\n",
       "      <td>68.0</td>\n",
       "      <td>2.863614</td>\n",
       "      <td>2.101664</td>\n",
       "      <td>8.200284e+00</td>\n",
       "    </tr>\n",
       "  </tbody>\n",
       "</table>\n",
       "</div>\n",
       "      <button class=\"colab-df-convert\" onclick=\"convertToInteractive('df-7ccc4c16-7b1a-404b-a116-9d3dea4f7135')\"\n",
       "              title=\"Convert this dataframe to an interactive table.\"\n",
       "              style=\"display:none;\">\n",
       "        \n",
       "  <svg xmlns=\"http://www.w3.org/2000/svg\" height=\"24px\"viewBox=\"0 0 24 24\"\n",
       "       width=\"24px\">\n",
       "    <path d=\"M0 0h24v24H0V0z\" fill=\"none\"/>\n",
       "    <path d=\"M18.56 5.44l.94 2.06.94-2.06 2.06-.94-2.06-.94-.94-2.06-.94 2.06-2.06.94zm-11 1L8.5 8.5l.94-2.06 2.06-.94-2.06-.94L8.5 2.5l-.94 2.06-2.06.94zm10 10l.94 2.06.94-2.06 2.06-.94-2.06-.94-.94-2.06-.94 2.06-2.06.94z\"/><path d=\"M17.41 7.96l-1.37-1.37c-.4-.4-.92-.59-1.43-.59-.52 0-1.04.2-1.43.59L10.3 9.45l-7.72 7.72c-.78.78-.78 2.05 0 2.83L4 21.41c.39.39.9.59 1.41.59.51 0 1.02-.2 1.41-.59l7.78-7.78 2.81-2.81c.8-.78.8-2.07 0-2.86zM5.41 20L4 18.59l7.72-7.72 1.47 1.35L5.41 20z\"/>\n",
       "  </svg>\n",
       "      </button>\n",
       "      \n",
       "  <style>\n",
       "    .colab-df-container {\n",
       "      display:flex;\n",
       "      flex-wrap:wrap;\n",
       "      gap: 12px;\n",
       "    }\n",
       "\n",
       "    .colab-df-convert {\n",
       "      background-color: #E8F0FE;\n",
       "      border: none;\n",
       "      border-radius: 50%;\n",
       "      cursor: pointer;\n",
       "      display: none;\n",
       "      fill: #1967D2;\n",
       "      height: 32px;\n",
       "      padding: 0 0 0 0;\n",
       "      width: 32px;\n",
       "    }\n",
       "\n",
       "    .colab-df-convert:hover {\n",
       "      background-color: #E2EBFA;\n",
       "      box-shadow: 0px 1px 2px rgba(60, 64, 67, 0.3), 0px 1px 3px 1px rgba(60, 64, 67, 0.15);\n",
       "      fill: #174EA6;\n",
       "    }\n",
       "\n",
       "    [theme=dark] .colab-df-convert {\n",
       "      background-color: #3B4455;\n",
       "      fill: #D2E3FC;\n",
       "    }\n",
       "\n",
       "    [theme=dark] .colab-df-convert:hover {\n",
       "      background-color: #434B5C;\n",
       "      box-shadow: 0px 1px 3px 1px rgba(0, 0, 0, 0.15);\n",
       "      filter: drop-shadow(0px 1px 2px rgba(0, 0, 0, 0.3));\n",
       "      fill: #FFFFFF;\n",
       "    }\n",
       "  </style>\n",
       "\n",
       "      <script>\n",
       "        const buttonEl =\n",
       "          document.querySelector('#df-7ccc4c16-7b1a-404b-a116-9d3dea4f7135 button.colab-df-convert');\n",
       "        buttonEl.style.display =\n",
       "          google.colab.kernel.accessAllowed ? 'block' : 'none';\n",
       "\n",
       "        async function convertToInteractive(key) {\n",
       "          const element = document.querySelector('#df-7ccc4c16-7b1a-404b-a116-9d3dea4f7135');\n",
       "          const dataTable =\n",
       "            await google.colab.kernel.invokeFunction('convertToInteractive',\n",
       "                                                     [key], {});\n",
       "          if (!dataTable) return;\n",
       "\n",
       "          const docLinkHtml = 'Like what you see? Visit the ' +\n",
       "            '<a target=\"_blank\" href=https://colab.research.google.com/notebooks/data_table.ipynb>data table notebook</a>'\n",
       "            + ' to learn more about interactive tables.';\n",
       "          element.innerHTML = '';\n",
       "          dataTable['output_type'] = 'display_data';\n",
       "          await google.colab.output.renderOutput(dataTable, element);\n",
       "          const docLink = document.createElement('div');\n",
       "          docLink.innerHTML = docLinkHtml;\n",
       "          element.appendChild(docLink);\n",
       "        }\n",
       "      </script>\n",
       "    </div>\n",
       "  </div>\n",
       "  "
      ],
      "text/plain": [
       "               timestamp    duration  number_of_trees  training_rmse  \\\n",
       "0    2022-09-06 02:32:44   0.741 sec              0.0    7094.269911   \n",
       "1    2022-09-06 02:32:44   0.749 sec             10.0     860.216208   \n",
       "2    2022-09-06 02:32:44   0.762 sec             20.0     184.269918   \n",
       "3    2022-09-06 02:32:44   0.768 sec             30.0      74.243373   \n",
       "4    2022-09-06 02:32:44   0.774 sec             40.0      28.193191   \n",
       "5    2022-09-06 02:32:44   0.782 sec             50.0      11.983558   \n",
       "6    2022-09-06 02:32:44   0.790 sec             60.0       4.972435   \n",
       "7    2022-09-06 02:32:44   0.798 sec             68.0       2.863614   \n",
       "\n",
       "   training_mae  training_deviance  \n",
       "0   6968.640340       5.032867e+07  \n",
       "1    756.388709       7.399719e+05  \n",
       "2    142.833616       3.395540e+04  \n",
       "3     53.249414       5.512078e+03  \n",
       "4     22.472720       7.948560e+02  \n",
       "5      9.687759       1.436057e+02  \n",
       "6      3.776078       2.472511e+01  \n",
       "7      2.101664       8.200284e+00  "
      ]
     },
     "metadata": {},
     "output_type": "display_data"
    },
    {
     "name": "stdout",
     "output_type": "stream",
     "text": [
      "\n",
      "Variable Importances: \n"
     ]
    },
    {
     "data": {
      "text/html": [
       "\n",
       "  <div id=\"df-04ded631-bced-4770-ad2e-8f9a16fb4f14\">\n",
       "    <div class=\"colab-df-container\">\n",
       "      <div>\n",
       "<style scoped>\n",
       "    .dataframe tbody tr th:only-of-type {\n",
       "        vertical-align: middle;\n",
       "    }\n",
       "\n",
       "    .dataframe tbody tr th {\n",
       "        vertical-align: top;\n",
       "    }\n",
       "\n",
       "    .dataframe thead th {\n",
       "        text-align: right;\n",
       "    }\n",
       "</style>\n",
       "<table border=\"1\" class=\"dataframe\">\n",
       "  <thead>\n",
       "    <tr style=\"text-align: right;\">\n",
       "      <th></th>\n",
       "      <th>variable</th>\n",
       "      <th>relative_importance</th>\n",
       "      <th>scaled_importance</th>\n",
       "      <th>percentage</th>\n",
       "    </tr>\n",
       "  </thead>\n",
       "  <tbody>\n",
       "    <tr>\n",
       "      <th>0</th>\n",
       "      <td>GNDVI_0310</td>\n",
       "      <td>82066944.0</td>\n",
       "      <td>1.000000</td>\n",
       "      <td>0.244149</td>\n",
       "    </tr>\n",
       "    <tr>\n",
       "      <th>1</th>\n",
       "      <td>_NDVI_0310</td>\n",
       "      <td>77592304.0</td>\n",
       "      <td>0.945476</td>\n",
       "      <td>0.230837</td>\n",
       "    </tr>\n",
       "    <tr>\n",
       "      <th>2</th>\n",
       "      <td>_MNLI_0310</td>\n",
       "      <td>46841508.0</td>\n",
       "      <td>0.570772</td>\n",
       "      <td>0.139353</td>\n",
       "    </tr>\n",
       "    <tr>\n",
       "      <th>3</th>\n",
       "      <td>_EVI_0310m</td>\n",
       "      <td>41056952.0</td>\n",
       "      <td>0.500286</td>\n",
       "      <td>0.122144</td>\n",
       "    </tr>\n",
       "    <tr>\n",
       "      <th>4</th>\n",
       "      <td>_NLI_0310m</td>\n",
       "      <td>35449744.0</td>\n",
       "      <td>0.431961</td>\n",
       "      <td>0.105463</td>\n",
       "    </tr>\n",
       "    <tr>\n",
       "      <th>5</th>\n",
       "      <td>_SR_0310me</td>\n",
       "      <td>26663376.0</td>\n",
       "      <td>0.324898</td>\n",
       "      <td>0.079323</td>\n",
       "    </tr>\n",
       "    <tr>\n",
       "      <th>6</th>\n",
       "      <td>_SAVI_0310</td>\n",
       "      <td>26464064.0</td>\n",
       "      <td>0.322469</td>\n",
       "      <td>0.078730</td>\n",
       "    </tr>\n",
       "  </tbody>\n",
       "</table>\n",
       "</div>\n",
       "      <button class=\"colab-df-convert\" onclick=\"convertToInteractive('df-04ded631-bced-4770-ad2e-8f9a16fb4f14')\"\n",
       "              title=\"Convert this dataframe to an interactive table.\"\n",
       "              style=\"display:none;\">\n",
       "        \n",
       "  <svg xmlns=\"http://www.w3.org/2000/svg\" height=\"24px\"viewBox=\"0 0 24 24\"\n",
       "       width=\"24px\">\n",
       "    <path d=\"M0 0h24v24H0V0z\" fill=\"none\"/>\n",
       "    <path d=\"M18.56 5.44l.94 2.06.94-2.06 2.06-.94-2.06-.94-.94-2.06-.94 2.06-2.06.94zm-11 1L8.5 8.5l.94-2.06 2.06-.94-2.06-.94L8.5 2.5l-.94 2.06-2.06.94zm10 10l.94 2.06.94-2.06 2.06-.94-2.06-.94-.94-2.06-.94 2.06-2.06.94z\"/><path d=\"M17.41 7.96l-1.37-1.37c-.4-.4-.92-.59-1.43-.59-.52 0-1.04.2-1.43.59L10.3 9.45l-7.72 7.72c-.78.78-.78 2.05 0 2.83L4 21.41c.39.39.9.59 1.41.59.51 0 1.02-.2 1.41-.59l7.78-7.78 2.81-2.81c.8-.78.8-2.07 0-2.86zM5.41 20L4 18.59l7.72-7.72 1.47 1.35L5.41 20z\"/>\n",
       "  </svg>\n",
       "      </button>\n",
       "      \n",
       "  <style>\n",
       "    .colab-df-container {\n",
       "      display:flex;\n",
       "      flex-wrap:wrap;\n",
       "      gap: 12px;\n",
       "    }\n",
       "\n",
       "    .colab-df-convert {\n",
       "      background-color: #E8F0FE;\n",
       "      border: none;\n",
       "      border-radius: 50%;\n",
       "      cursor: pointer;\n",
       "      display: none;\n",
       "      fill: #1967D2;\n",
       "      height: 32px;\n",
       "      padding: 0 0 0 0;\n",
       "      width: 32px;\n",
       "    }\n",
       "\n",
       "    .colab-df-convert:hover {\n",
       "      background-color: #E2EBFA;\n",
       "      box-shadow: 0px 1px 2px rgba(60, 64, 67, 0.3), 0px 1px 3px 1px rgba(60, 64, 67, 0.15);\n",
       "      fill: #174EA6;\n",
       "    }\n",
       "\n",
       "    [theme=dark] .colab-df-convert {\n",
       "      background-color: #3B4455;\n",
       "      fill: #D2E3FC;\n",
       "    }\n",
       "\n",
       "    [theme=dark] .colab-df-convert:hover {\n",
       "      background-color: #434B5C;\n",
       "      box-shadow: 0px 1px 3px 1px rgba(0, 0, 0, 0.15);\n",
       "      filter: drop-shadow(0px 1px 2px rgba(0, 0, 0, 0.3));\n",
       "      fill: #FFFFFF;\n",
       "    }\n",
       "  </style>\n",
       "\n",
       "      <script>\n",
       "        const buttonEl =\n",
       "          document.querySelector('#df-04ded631-bced-4770-ad2e-8f9a16fb4f14 button.colab-df-convert');\n",
       "        buttonEl.style.display =\n",
       "          google.colab.kernel.accessAllowed ? 'block' : 'none';\n",
       "\n",
       "        async function convertToInteractive(key) {\n",
       "          const element = document.querySelector('#df-04ded631-bced-4770-ad2e-8f9a16fb4f14');\n",
       "          const dataTable =\n",
       "            await google.colab.kernel.invokeFunction('convertToInteractive',\n",
       "                                                     [key], {});\n",
       "          if (!dataTable) return;\n",
       "\n",
       "          const docLinkHtml = 'Like what you see? Visit the ' +\n",
       "            '<a target=\"_blank\" href=https://colab.research.google.com/notebooks/data_table.ipynb>data table notebook</a>'\n",
       "            + ' to learn more about interactive tables.';\n",
       "          element.innerHTML = '';\n",
       "          dataTable['output_type'] = 'display_data';\n",
       "          await google.colab.output.renderOutput(dataTable, element);\n",
       "          const docLink = document.createElement('div');\n",
       "          docLink.innerHTML = docLinkHtml;\n",
       "          element.appendChild(docLink);\n",
       "        }\n",
       "      </script>\n",
       "    </div>\n",
       "  </div>\n",
       "  "
      ],
      "text/plain": [
       "     variable  relative_importance  scaled_importance  percentage\n",
       "0  GNDVI_0310           82066944.0           1.000000    0.244149\n",
       "1  _NDVI_0310           77592304.0           0.945476    0.230837\n",
       "2  _MNLI_0310           46841508.0           0.570772    0.139353\n",
       "3  _EVI_0310m           41056952.0           0.500286    0.122144\n",
       "4  _NLI_0310m           35449744.0           0.431961    0.105463\n",
       "5  _SR_0310me           26663376.0           0.324898    0.079323\n",
       "6  _SAVI_0310           26464064.0           0.322469    0.078730"
      ]
     },
     "metadata": {},
     "output_type": "display_data"
    },
    {
     "data": {
      "text/plain": []
     },
     "execution_count": 37,
     "metadata": {},
     "output_type": "execute_result"
    }
   ],
   "source": [
    "# Create and train an AutoML model\n",
    "# AutoML automatically tries multiple algorithms and finds the best one\n",
    "\n",
    "# Initialize H2O AutoML with specific parameters:\n",
    "aml = H2OAutoML(\n",
    "    max_runtime_secs=600,      # Run for maximum 10 minutes (600 seconds)\n",
    "    seed=1,                    # For reproducible results\n",
    "    project_name='DAS_111_VI', # Name for this AutoML project\n",
    "    nfolds=5                   # Use 5-fold cross-validation\n",
    ")\n",
    "\n",
    "print(\"🤖 Starting AutoML training...\")\n",
    "print(\"This will automatically try multiple algorithms including:\")\n",
    "print(\"- Random Forest\")\n",
    "print(\"- Gradient Boosting Machines (GBM)\")\n",
    "print(\"- Deep Learning Neural Networks\")\n",
    "print(\"- Generalized Linear Models (GLM)\")\n",
    "print(\"- Extremely Randomized Trees\")\n",
    "print(\"- Stacked Ensemble models\")\n",
    "print(\"\\nTraining in progress... This may take a few minutes.\")\n",
    "\n",
    "# Train the AutoML model\n",
    "# y = target variable, training_frame = data to train on, leaderboard_frame = data to rank models\n",
    "aml.train(y=y, training_frame=train, leaderboard_frame=test)\n",
    "\n",
    "print(\"✅ AutoML training completed!\")\n",
    "print(f\"Best model type: {aml.leader.algo}\")\n",
    "print(f\"Total models trained: {len(aml.leaderboard)}\")"
   ]
  },
  {
   "cell_type": "markdown",
   "metadata": {},
   "source": [
    "## Step 8: AutoML Model Training\n",
    "\n",
    "Now comes the exciting part! We'll use H2O's AutoML to automatically train and tune multiple machine learning models. AutoML will:\n",
    "\n",
    "1. **Try Multiple Algorithms**: Random Forest, Gradient Boosting, Deep Learning, etc.\n",
    "2. **Hyperparameter Tuning**: Automatically optimize model parameters\n",
    "3. **Cross-Validation**: Use 5-fold CV to prevent overfitting\n",
    "4. **Model Ranking**: Rank all models by performance\n",
    "5. **Ensemble Creation**: Combine top models for better predictions"
   ]
  },
  {
   "cell_type": "code",
   "execution_count": null,
   "metadata": {
    "colab": {
     "base_uri": "https://localhost:8080/",
     "height": 0
    },
    "executionInfo": {
     "elapsed": 199,
     "status": "ok",
     "timestamp": 1662431594301,
     "user": {
      "displayName": "Mailson Oliveira",
      "userId": "07757836318271289118"
     },
     "user_tz": 300
    },
    "id": "ChB_Ipk0fLhh",
    "outputId": "618e7df9-b99f-4e88-d834-a8583130de2a"
   },
   "outputs": [
    {
     "data": {
      "text/html": [
       "<table>\n",
       "<thead>\n",
       "<tr><th>model_id                                                               </th><th style=\"text-align: right;\">   rmse</th><th style=\"text-align: right;\">        mse</th><th style=\"text-align: right;\">     mae</th><th style=\"text-align: right;\">   rmsle</th><th style=\"text-align: right;\">  mean_residual_deviance</th></tr>\n",
       "</thead>\n",
       "<tbody>\n",
       "<tr><td>XGBoost_lr_search_selection_AutoML_3_20220906_22320_select_grid_model_2</td><td style=\"text-align: right;\">1272.79</td><td style=\"text-align: right;\">1.62e+06   </td><td style=\"text-align: right;\">1018.82 </td><td style=\"text-align: right;\">0.201863</td><td style=\"text-align: right;\">             1.62e+06   </td></tr>\n",
       "<tr><td>DeepLearning_grid_1_AutoML_3_20220906_22320_model_4                    </td><td style=\"text-align: right;\">1277.86</td><td style=\"text-align: right;\">1.63293e+06</td><td style=\"text-align: right;\"> 906.742</td><td style=\"text-align: right;\">0.213741</td><td style=\"text-align: right;\">             1.63293e+06</td></tr>\n",
       "<tr><td>DeepLearning_grid_1_AutoML_3_20220906_22320_model_5                    </td><td style=\"text-align: right;\">1315.81</td><td style=\"text-align: right;\">1.73134e+06</td><td style=\"text-align: right;\"> 985.658</td><td style=\"text-align: right;\">0.220841</td><td style=\"text-align: right;\">             1.73134e+06</td></tr>\n",
       "<tr><td>DeepLearning_grid_1_AutoML_3_20220906_22320_model_6                    </td><td style=\"text-align: right;\">1339.88</td><td style=\"text-align: right;\">1.79529e+06</td><td style=\"text-align: right;\">1043.69 </td><td style=\"text-align: right;\">0.220102</td><td style=\"text-align: right;\">             1.79529e+06</td></tr>\n",
       "<tr><td>DeepLearning_grid_1_AutoML_3_20220906_22320_model_3                    </td><td style=\"text-align: right;\">1342.52</td><td style=\"text-align: right;\">1.80235e+06</td><td style=\"text-align: right;\"> 946.863</td><td style=\"text-align: right;\">0.2309  </td><td style=\"text-align: right;\">             1.80235e+06</td></tr>\n",
       "<tr><td>DeepLearning_grid_1_AutoML_3_20220906_22320_model_2                    </td><td style=\"text-align: right;\">1373.67</td><td style=\"text-align: right;\">1.88697e+06</td><td style=\"text-align: right;\">1064.29 </td><td style=\"text-align: right;\">0.225313</td><td style=\"text-align: right;\">             1.88697e+06</td></tr>\n",
       "<tr><td>DeepLearning_grid_2_AutoML_3_20220906_22320_model_1                    </td><td style=\"text-align: right;\">1383.55</td><td style=\"text-align: right;\">1.91422e+06</td><td style=\"text-align: right;\">1087.6  </td><td style=\"text-align: right;\">0.228959</td><td style=\"text-align: right;\">             1.91422e+06</td></tr>\n",
       "<tr><td>DeepLearning_grid_1_AutoML_3_20220906_22320_model_1                    </td><td style=\"text-align: right;\">1390.51</td><td style=\"text-align: right;\">1.93351e+06</td><td style=\"text-align: right;\">1107.04 </td><td style=\"text-align: right;\">0.229666</td><td style=\"text-align: right;\">             1.93351e+06</td></tr>\n",
       "<tr><td>DeepLearning_grid_1_AutoML_3_20220906_22320_model_7                    </td><td style=\"text-align: right;\">1407.77</td><td style=\"text-align: right;\">1.98181e+06</td><td style=\"text-align: right;\">1098.69 </td><td style=\"text-align: right;\">0.236409</td><td style=\"text-align: right;\">             1.98181e+06</td></tr>\n",
       "<tr><td>XGBoost_grid_1_AutoML_3_20220906_22320_model_27                        </td><td style=\"text-align: right;\">1416.42</td><td style=\"text-align: right;\">2.00625e+06</td><td style=\"text-align: right;\">1096.29 </td><td style=\"text-align: right;\">0.232594</td><td style=\"text-align: right;\">             2.00625e+06</td></tr>\n",
       "</tbody>\n",
       "</table>"
      ]
     },
     "metadata": {},
     "output_type": "display_data"
    },
    {
     "data": {
      "text/plain": []
     },
     "execution_count": 38,
     "metadata": {},
     "output_type": "execute_result"
    }
   ],
   "source": [
    "# View the AutoML leaderboard\n",
    "# This shows all trained models ranked by performance (best to worst)\n",
    "\n",
    "print(\"📊 AutoML Leaderboard - Top performing models:\")\n",
    "print(\"Models are ranked by RMSE (Root Mean Square Error) - lower is better\")\n",
    "print(\"=\"*60)\n",
    "\n",
    "leaderboard = aml.leaderboard.head()\n",
    "leaderboard"
   ]
  },
  {
   "cell_type": "markdown",
   "metadata": {},
   "source": [
    "## Step 9: Model Leaderboard\n",
    "\n",
    "After training, AutoML provides a leaderboard showing all models ranked by performance. The best performing model (leader) is automatically selected."
   ]
  },
  {
   "cell_type": "code",
   "execution_count": null,
   "metadata": {
    "colab": {
     "base_uri": "https://localhost:8080/"
    },
    "executionInfo": {
     "elapsed": 7,
     "status": "ok",
     "timestamp": 1662431594301,
     "user": {
      "displayName": "Mailson Oliveira",
      "userId": "07757836318271289118"
     },
     "user_tz": 300
    },
    "id": "ivI3OFssSmod",
    "outputId": "01143a13-fa71-459b-dec3-2aa95c7f21d3"
   },
   "outputs": [
    {
     "name": "stdout",
     "output_type": "stream",
     "text": [
      "\n",
      "ModelMetricsRegression: xgboost\n",
      "** Reported on test data. **\n",
      "\n",
      "MSE: 8.200283700686235\n",
      "RMSE: 2.8636137485153674\n",
      "MAE: 2.1016639122596152\n",
      "RMSLE: 0.0004016814955596981\n",
      "Mean Residual Deviance: 8.200283700686235\n"
     ]
    },
    {
     "data": {
      "text/plain": []
     },
     "execution_count": 39,
     "metadata": {},
     "output_type": "execute_result"
    }
   ],
   "source": [
    "# Evaluate model performance on TRAINING data\n",
    "# This shows how well the model learned from the training data\n",
    "\n",
    "print(\"📈 Model Performance on TRAINING Data:\")\n",
    "print(\"This shows how well our best model fits the training data\")\n",
    "print(\"=\"*50)\n",
    "\n",
    "perf_train = aml.leader.model_performance(train)\n",
    "print(f\"Model type: {aml.leader.algo}\")\n",
    "print(f\"RMSE (Root Mean Square Error): {perf_train.rmse()[0][0]:.4f}\")\n",
    "print(f\"MAE (Mean Absolute Error): {perf_train.mae()[0][0]:.4f}\")\n",
    "print(f\"R² (Coefficient of Determination): {perf_train.r2()[0][0]:.4f}\")\n",
    "\n",
    "print(\"\\n💡 Performance Metrics Explained:\")\n",
    "print(\"- RMSE: Average prediction error (same units as target variable)\")\n",
    "print(\"- MAE: Average absolute prediction error\")\n",
    "print(\"- R²: Proportion of variance explained (closer to 1.0 is better)\")\n",
    "\n",
    "perf_train"
   ]
  },
  {
   "cell_type": "markdown",
   "metadata": {},
   "source": [
    "## Step 10: Evaluate Training Performance\n",
    "\n",
    "Let's examine how well our best model performs on the training data. This gives us an idea of how well the model has learned the patterns in our data."
   ]
  },
  {
   "cell_type": "code",
   "execution_count": null,
   "metadata": {
    "colab": {
     "base_uri": "https://localhost:8080/"
    },
    "executionInfo": {
     "elapsed": 7,
     "status": "ok",
     "timestamp": 1662431594302,
     "user": {
      "displayName": "Mailson Oliveira",
      "userId": "07757836318271289118"
     },
     "user_tz": 300
    },
    "id": "vfExx8IviycY",
    "outputId": "19a7501f-46ba-49a2-9215-5b62ba079c31"
   },
   "outputs": [
    {
     "name": "stdout",
     "output_type": "stream",
     "text": [
      "\n",
      "ModelMetricsRegression: xgboost\n",
      "** Reported on test data. **\n",
      "\n",
      "MSE: 1620002.1121967055\n",
      "RMSE: 1272.793035884745\n",
      "MAE: 1018.8180042613636\n",
      "RMSLE: 0.20186310776205313\n",
      "Mean Residual Deviance: 1620002.1121967055\n"
     ]
    },
    {
     "data": {
      "text/plain": []
     },
     "execution_count": 40,
     "metadata": {},
     "output_type": "execute_result"
    }
   ],
   "source": [
    "# Evaluate model performance on TEST data\n",
    "# This is the most important evaluation - how well does the model perform on unseen data?\n",
    "\n",
    "print(\"🎯 Model Performance on TEST Data:\")\n",
    "print(\"This shows how well our model generalizes to new, unseen data\")\n",
    "print(\"=\"*55)\n",
    "\n",
    "perf_test = aml.leader.model_performance(test)\n",
    "print(f\"Model type: {aml.leader.algo}\")\n",
    "print(f\"RMSE (Root Mean Square Error): {perf_test.rmse()[0][0]:.4f}\")\n",
    "print(f\"MAE (Mean Absolute Error): {perf_test.mae()[0][0]:.4f}\")\n",
    "print(f\"R² (Coefficient of Determination): {perf_test.r2()[0][0]:.4f}\")\n",
    "\n",
    "print(\"\\n🔍 Comparing Training vs Test Performance:\")\n",
    "print(\"- If test performance is much worse than training, the model might be overfitted\")\n",
    "print(\"- If they're similar, the model generalizes well to new data\")\n",
    "print(\"- Test performance is what we expect in real-world applications\")\n",
    "\n",
    "perf_test"
   ]
  },
  {
   "cell_type": "markdown",
   "metadata": {},
   "source": [
    "## Step 11: Evaluate Test Performance\n",
    "\n",
    "The most critical evaluation is how well our model performs on the test set - data it has never seen before. This gives us a realistic estimate of how the model will perform in real-world applications."
   ]
  },
  {
   "cell_type": "code",
   "execution_count": null,
   "metadata": {
    "colab": {
     "base_uri": "https://localhost:8080/",
     "height": 263
    },
    "executionInfo": {
     "elapsed": 615,
     "status": "ok",
     "timestamp": 1662431594912,
     "user": {
      "displayName": "Mailson Oliveira",
      "userId": "07757836318271289118"
     },
     "user_tz": 300
    },
    "id": "fgPODfZfi8Hm",
    "outputId": "6dfd746f-86e9-43e6-e44b-4bfd8eec2eb9"
   },
   "outputs": [
    {
     "data": {
      "text/html": [
       "<table>\n",
       "<thead>\n",
       "<tr><th>model_id                                                               </th><th style=\"text-align: right;\">   rmse</th><th style=\"text-align: right;\">        mse</th><th style=\"text-align: right;\">     mae</th><th style=\"text-align: right;\">   rmsle</th><th style=\"text-align: right;\">  mean_residual_deviance</th><th style=\"text-align: right;\">  training_time_ms</th><th style=\"text-align: right;\">  predict_time_per_row_ms</th><th>algo        </th></tr>\n",
       "</thead>\n",
       "<tbody>\n",
       "<tr><td>XGBoost_lr_search_selection_AutoML_3_20220906_22320_select_grid_model_2</td><td style=\"text-align: right;\">1272.79</td><td style=\"text-align: right;\">1.62e+06   </td><td style=\"text-align: right;\">1018.82 </td><td style=\"text-align: right;\">0.201863</td><td style=\"text-align: right;\">             1.62e+06   </td><td style=\"text-align: right;\">                62</td><td style=\"text-align: right;\">                 0.096179</td><td>XGBoost     </td></tr>\n",
       "<tr><td>DeepLearning_grid_1_AutoML_3_20220906_22320_model_4                    </td><td style=\"text-align: right;\">1277.86</td><td style=\"text-align: right;\">1.63293e+06</td><td style=\"text-align: right;\"> 906.742</td><td style=\"text-align: right;\">0.213741</td><td style=\"text-align: right;\">             1.63293e+06</td><td style=\"text-align: right;\">             16381</td><td style=\"text-align: right;\">                 0.034829</td><td>DeepLearning</td></tr>\n",
       "<tr><td>DeepLearning_grid_1_AutoML_3_20220906_22320_model_5                    </td><td style=\"text-align: right;\">1315.81</td><td style=\"text-align: right;\">1.73134e+06</td><td style=\"text-align: right;\"> 985.658</td><td style=\"text-align: right;\">0.220841</td><td style=\"text-align: right;\">             1.73134e+06</td><td style=\"text-align: right;\">              6493</td><td style=\"text-align: right;\">                 0.023505</td><td>DeepLearning</td></tr>\n",
       "<tr><td>DeepLearning_grid_1_AutoML_3_20220906_22320_model_6                    </td><td style=\"text-align: right;\">1339.88</td><td style=\"text-align: right;\">1.79529e+06</td><td style=\"text-align: right;\">1043.69 </td><td style=\"text-align: right;\">0.220102</td><td style=\"text-align: right;\">             1.79529e+06</td><td style=\"text-align: right;\">              7570</td><td style=\"text-align: right;\">                 0.079129</td><td>DeepLearning</td></tr>\n",
       "<tr><td>DeepLearning_grid_1_AutoML_3_20220906_22320_model_3                    </td><td style=\"text-align: right;\">1342.52</td><td style=\"text-align: right;\">1.80235e+06</td><td style=\"text-align: right;\"> 946.863</td><td style=\"text-align: right;\">0.2309  </td><td style=\"text-align: right;\">             1.80235e+06</td><td style=\"text-align: right;\">              2210</td><td style=\"text-align: right;\">                 0.017753</td><td>DeepLearning</td></tr>\n",
       "<tr><td>DeepLearning_grid_1_AutoML_3_20220906_22320_model_2                    </td><td style=\"text-align: right;\">1373.67</td><td style=\"text-align: right;\">1.88697e+06</td><td style=\"text-align: right;\">1064.29 </td><td style=\"text-align: right;\">0.225313</td><td style=\"text-align: right;\">             1.88697e+06</td><td style=\"text-align: right;\">              3733</td><td style=\"text-align: right;\">                 0.019344</td><td>DeepLearning</td></tr>\n",
       "<tr><td>DeepLearning_grid_2_AutoML_3_20220906_22320_model_1                    </td><td style=\"text-align: right;\">1383.55</td><td style=\"text-align: right;\">1.91422e+06</td><td style=\"text-align: right;\">1087.6  </td><td style=\"text-align: right;\">0.228959</td><td style=\"text-align: right;\">             1.91422e+06</td><td style=\"text-align: right;\">             11896</td><td style=\"text-align: right;\">                 0.027932</td><td>DeepLearning</td></tr>\n",
       "<tr><td>DeepLearning_grid_1_AutoML_3_20220906_22320_model_1                    </td><td style=\"text-align: right;\">1390.51</td><td style=\"text-align: right;\">1.93351e+06</td><td style=\"text-align: right;\">1107.04 </td><td style=\"text-align: right;\">0.229666</td><td style=\"text-align: right;\">             1.93351e+06</td><td style=\"text-align: right;\">             14592</td><td style=\"text-align: right;\">                 0.011112</td><td>DeepLearning</td></tr>\n",
       "<tr><td>DeepLearning_grid_1_AutoML_3_20220906_22320_model_7                    </td><td style=\"text-align: right;\">1407.77</td><td style=\"text-align: right;\">1.98181e+06</td><td style=\"text-align: right;\">1098.69 </td><td style=\"text-align: right;\">0.236409</td><td style=\"text-align: right;\">             1.98181e+06</td><td style=\"text-align: right;\">             14175</td><td style=\"text-align: right;\">                 0.012978</td><td>DeepLearning</td></tr>\n",
       "<tr><td>XGBoost_grid_1_AutoML_3_20220906_22320_model_27                        </td><td style=\"text-align: right;\">1416.42</td><td style=\"text-align: right;\">2.00625e+06</td><td style=\"text-align: right;\">1096.29 </td><td style=\"text-align: right;\">0.232594</td><td style=\"text-align: right;\">             2.00625e+06</td><td style=\"text-align: right;\">                44</td><td style=\"text-align: right;\">                 0.022272</td><td>XGBoost     </td></tr>\n",
       "</tbody>\n",
       "</table>"
      ]
     },
     "metadata": {},
     "output_type": "display_data"
    },
    {
     "data": {
      "text/plain": []
     },
     "execution_count": 41,
     "metadata": {},
     "output_type": "execute_result"
    }
   ],
   "source": [
    "# Get detailed leaderboard with ALL metrics\n",
    "# This provides comprehensive information about all trained models\n",
    "\n",
    "print(\"📋 Detailed AutoML Leaderboard:\")\n",
    "print(\"All models with comprehensive performance metrics\")\n",
    "print(\"=\"*60)\n",
    "\n",
    "# extra_columns = 'ALL' includes additional metrics like training time, validation scores, etc.\n",
    "lb = h2o.automl.get_leaderboard(aml, extra_columns='ALL')\n",
    "print(\"Columns explained:\")\n",
    "print(\"- model_id: Unique identifier for each model\")\n",
    "print(\"- rmse: Root Mean Square Error (lower is better)\")\n",
    "print(\"- mean_residual_deviance: Average squared residuals\")\n",
    "print(\"- training_time_ms: Time taken to train the model\")\n",
    "print(\"- predict_time_per_row_ms: Time to make predictions\")\n",
    "\n",
    "lb"
   ]
  },
  {
   "cell_type": "markdown",
   "metadata": {},
   "source": [
    "## Step 12: Detailed Model Analysis\n",
    "\n",
    "Let's examine all the models that were trained with comprehensive metrics including training time and prediction speed."
   ]
  },
  {
   "cell_type": "code",
   "execution_count": null,
   "metadata": {
    "colab": {
     "base_uri": "https://localhost:8080/",
     "height": 261
    },
    "executionInfo": {
     "elapsed": 9,
     "status": "ok",
     "timestamp": 1662431594912,
     "user": {
      "displayName": "Mailson Oliveira",
      "userId": "07757836318271289118"
     },
     "user_tz": 300
    },
    "id": "thieFeIWfLkZ",
    "outputId": "509e10e5-50ed-4d56-99e1-34938dc66712"
   },
   "outputs": [
    {
     "name": "stdout",
     "output_type": "stream",
     "text": [
      "xgboost prediction progress: |███████████████████████████████████████████████████| (done) 100%\n"
     ]
    },
    {
     "data": {
      "text/html": [
       "<table>\n",
       "<thead>\n",
       "<tr><th style=\"text-align: right;\">  predict</th></tr>\n",
       "</thead>\n",
       "<tbody>\n",
       "<tr><td style=\"text-align: right;\">  6852.16</td></tr>\n",
       "<tr><td style=\"text-align: right;\">  6376.48</td></tr>\n",
       "<tr><td style=\"text-align: right;\">  7153.01</td></tr>\n",
       "<tr><td style=\"text-align: right;\">  6435.03</td></tr>\n",
       "<tr><td style=\"text-align: right;\">  8174.14</td></tr>\n",
       "<tr><td style=\"text-align: right;\">  6722.5 </td></tr>\n",
       "<tr><td style=\"text-align: right;\">  7293.9 </td></tr>\n",
       "<tr><td style=\"text-align: right;\">  6652.56</td></tr>\n",
       "<tr><td style=\"text-align: right;\">  5700.94</td></tr>\n",
       "<tr><td style=\"text-align: right;\">  8045.44</td></tr>\n",
       "</tbody>\n",
       "</table>"
      ]
     },
     "metadata": {},
     "output_type": "display_data"
    },
    {
     "data": {
      "text/plain": []
     },
     "execution_count": 42,
     "metadata": {},
     "output_type": "execute_result"
    }
   ],
   "source": [
    "# Make predictions on the test set using our best model\n",
    "# This applies our trained model to predict corn yield for the test data\n",
    "\n",
    "print(\"🔮 Making Predictions:\")\n",
    "print(\"Using our best model to predict corn yield on test data\")\n",
    "print(\"=\"*50)\n",
    "\n",
    "# aml.leader is the best performing model from AutoML\n",
    "pred = aml.leader.predict(test)\n",
    "\n",
    "print(f\"Predictions made for {pred.nrows} test samples\")\n",
    "print(\"The 'predict' column contains our corn yield predictions\")\n",
    "print(\"\\nFirst few predictions:\")\n",
    "\n",
    "pred"
   ]
  },
  {
   "cell_type": "markdown",
   "metadata": {},
   "source": [
    "## Step 13: Making Predictions\n",
    "\n",
    "Now let's use our trained model to make predictions on the test set. This simulates how we would use the model in real-world scenarios."
   ]
  },
  {
   "cell_type": "code",
   "execution_count": null,
   "metadata": {
    "executionInfo": {
     "elapsed": 189,
     "status": "ok",
     "timestamp": 1662431595096,
     "user": {
      "displayName": "Mailson Oliveira",
      "userId": "07757836318271289118"
     },
     "user_tz": 300
    },
    "id": "8vw5Eq1hE_Mg"
   },
   "outputs": [],
   "source": [
    "# Convert H2O frames to pandas for easier manipulation and visualization\n",
    "# H2O frames are great for modeling, but pandas is better for data analysis and plotting\n",
    "\n",
    "print(\"🔄 Converting H2O frames to Pandas DataFrames:\")\n",
    "print(\"This allows us to work with familiar pandas functionality\")\n",
    "\n",
    "# Extract actual corn yield values from test set\n",
    "obs = h2o.as_list(test[\"produtividade\"])\n",
    "print(f\"✅ Extracted {len(obs)} actual yield values\")\n",
    "\n",
    "# Extract predicted corn yield values\n",
    "pred_values = h2o.as_list(pred[\"predict\"])\n",
    "print(f\"✅ Extracted {len(pred_values)} predicted yield values\")\n",
    "\n",
    "print(f\"\\nActual values preview:\")\n",
    "print(obs.head())\n",
    "print(f\"\\nPredicted values preview:\")\n",
    "print(pred_values.head())"
   ]
  },
  {
   "cell_type": "markdown",
   "metadata": {},
   "source": [
    "## Step 14: Data Conversion for Analysis\n",
    "\n",
    "To analyze our predictions and create visualizations, we'll convert our H2O data frames to pandas DataFrames."
   ]
  },
  {
   "cell_type": "code",
   "execution_count": null,
   "metadata": {
    "colab": {
     "base_uri": "https://localhost:8080/",
     "height": 394
    },
    "executionInfo": {
     "elapsed": 5,
     "status": "ok",
     "timestamp": 1662431595097,
     "user": {
      "displayName": "Mailson Oliveira",
      "userId": "07757836318271289118"
     },
     "user_tz": 300
    },
    "id": "6WVwYbdSxQ-X",
    "outputId": "65617e4c-6b56-487f-ad31-56f52dd30ce7"
   },
   "outputs": [
    {
     "data": {
      "text/html": [
       "\n",
       "  <div id=\"df-3e9ff1b5-c14d-4ba8-9b2e-bee0e9f7bcd5\">\n",
       "    <div class=\"colab-df-container\">\n",
       "      <div>\n",
       "<style scoped>\n",
       "    .dataframe tbody tr th:only-of-type {\n",
       "        vertical-align: middle;\n",
       "    }\n",
       "\n",
       "    .dataframe tbody tr th {\n",
       "        vertical-align: top;\n",
       "    }\n",
       "\n",
       "    .dataframe thead th {\n",
       "        text-align: right;\n",
       "    }\n",
       "</style>\n",
       "<table border=\"1\" class=\"dataframe\">\n",
       "  <thead>\n",
       "    <tr style=\"text-align: right;\">\n",
       "      <th></th>\n",
       "      <th>Actual</th>\n",
       "      <th>Predicted</th>\n",
       "    </tr>\n",
       "  </thead>\n",
       "  <tbody>\n",
       "    <tr>\n",
       "      <th>0</th>\n",
       "      <td>7709.0621</td>\n",
       "      <td>6852.160156</td>\n",
       "    </tr>\n",
       "    <tr>\n",
       "      <th>1</th>\n",
       "      <td>5800.3969</td>\n",
       "      <td>6376.484375</td>\n",
       "    </tr>\n",
       "    <tr>\n",
       "      <th>2</th>\n",
       "      <td>7460.5188</td>\n",
       "      <td>7153.010742</td>\n",
       "    </tr>\n",
       "    <tr>\n",
       "      <th>3</th>\n",
       "      <td>4362.9430</td>\n",
       "      <td>6435.032715</td>\n",
       "    </tr>\n",
       "    <tr>\n",
       "      <th>4</th>\n",
       "      <td>6243.4957</td>\n",
       "      <td>8174.139160</td>\n",
       "    </tr>\n",
       "    <tr>\n",
       "      <th>5</th>\n",
       "      <td>6412.7846</td>\n",
       "      <td>6722.500977</td>\n",
       "    </tr>\n",
       "    <tr>\n",
       "      <th>6</th>\n",
       "      <td>7603.4342</td>\n",
       "      <td>7293.902832</td>\n",
       "    </tr>\n",
       "    <tr>\n",
       "      <th>7</th>\n",
       "      <td>9079.5021</td>\n",
       "      <td>6652.562012</td>\n",
       "    </tr>\n",
       "    <tr>\n",
       "      <th>8</th>\n",
       "      <td>4815.1799</td>\n",
       "      <td>5700.940918</td>\n",
       "    </tr>\n",
       "    <tr>\n",
       "      <th>9</th>\n",
       "      <td>7826.6994</td>\n",
       "      <td>8045.440430</td>\n",
       "    </tr>\n",
       "    <tr>\n",
       "      <th>10</th>\n",
       "      <td>4328.5102</td>\n",
       "      <td>5641.587402</td>\n",
       "    </tr>\n",
       "  </tbody>\n",
       "</table>\n",
       "</div>\n",
       "      <button class=\"colab-df-convert\" onclick=\"convertToInteractive('df-3e9ff1b5-c14d-4ba8-9b2e-bee0e9f7bcd5')\"\n",
       "              title=\"Convert this dataframe to an interactive table.\"\n",
       "              style=\"display:none;\">\n",
       "        \n",
       "  <svg xmlns=\"http://www.w3.org/2000/svg\" height=\"24px\"viewBox=\"0 0 24 24\"\n",
       "       width=\"24px\">\n",
       "    <path d=\"M0 0h24v24H0V0z\" fill=\"none\"/>\n",
       "    <path d=\"M18.56 5.44l.94 2.06.94-2.06 2.06-.94-2.06-.94-.94-2.06-.94 2.06-2.06.94zm-11 1L8.5 8.5l.94-2.06 2.06-.94-2.06-.94L8.5 2.5l-.94 2.06-2.06.94zm10 10l.94 2.06.94-2.06 2.06-.94-2.06-.94-.94-2.06-.94 2.06-2.06.94z\"/><path d=\"M17.41 7.96l-1.37-1.37c-.4-.4-.92-.59-1.43-.59-.52 0-1.04.2-1.43.59L10.3 9.45l-7.72 7.72c-.78.78-.78 2.05 0 2.83L4 21.41c.39.39.9.59 1.41.59.51 0 1.02-.2 1.41-.59l7.78-7.78 2.81-2.81c.8-.78.8-2.07 0-2.86zM5.41 20L4 18.59l7.72-7.72 1.47 1.35L5.41 20z\"/>\n",
       "  </svg>\n",
       "      </button>\n",
       "      \n",
       "  <style>\n",
       "    .colab-df-container {\n",
       "      display:flex;\n",
       "      flex-wrap:wrap;\n",
       "      gap: 12px;\n",
       "    }\n",
       "\n",
       "    .colab-df-convert {\n",
       "      background-color: #E8F0FE;\n",
       "      border: none;\n",
       "      border-radius: 50%;\n",
       "      cursor: pointer;\n",
       "      display: none;\n",
       "      fill: #1967D2;\n",
       "      height: 32px;\n",
       "      padding: 0 0 0 0;\n",
       "      width: 32px;\n",
       "    }\n",
       "\n",
       "    .colab-df-convert:hover {\n",
       "      background-color: #E2EBFA;\n",
       "      box-shadow: 0px 1px 2px rgba(60, 64, 67, 0.3), 0px 1px 3px 1px rgba(60, 64, 67, 0.15);\n",
       "      fill: #174EA6;\n",
       "    }\n",
       "\n",
       "    [theme=dark] .colab-df-convert {\n",
       "      background-color: #3B4455;\n",
       "      fill: #D2E3FC;\n",
       "    }\n",
       "\n",
       "    [theme=dark] .colab-df-convert:hover {\n",
       "      background-color: #434B5C;\n",
       "      box-shadow: 0px 1px 3px 1px rgba(0, 0, 0, 0.15);\n",
       "      filter: drop-shadow(0px 1px 2px rgba(0, 0, 0, 0.3));\n",
       "      fill: #FFFFFF;\n",
       "    }\n",
       "  </style>\n",
       "\n",
       "      <script>\n",
       "        const buttonEl =\n",
       "          document.querySelector('#df-3e9ff1b5-c14d-4ba8-9b2e-bee0e9f7bcd5 button.colab-df-convert');\n",
       "        buttonEl.style.display =\n",
       "          google.colab.kernel.accessAllowed ? 'block' : 'none';\n",
       "\n",
       "        async function convertToInteractive(key) {\n",
       "          const element = document.querySelector('#df-3e9ff1b5-c14d-4ba8-9b2e-bee0e9f7bcd5');\n",
       "          const dataTable =\n",
       "            await google.colab.kernel.invokeFunction('convertToInteractive',\n",
       "                                                     [key], {});\n",
       "          if (!dataTable) return;\n",
       "\n",
       "          const docLinkHtml = 'Like what you see? Visit the ' +\n",
       "            '<a target=\"_blank\" href=https://colab.research.google.com/notebooks/data_table.ipynb>data table notebook</a>'\n",
       "            + ' to learn more about interactive tables.';\n",
       "          element.innerHTML = '';\n",
       "          dataTable['output_type'] = 'display_data';\n",
       "          await google.colab.output.renderOutput(dataTable, element);\n",
       "          const docLink = document.createElement('div');\n",
       "          docLink.innerHTML = docLinkHtml;\n",
       "          element.appendChild(docLink);\n",
       "        }\n",
       "      </script>\n",
       "    </div>\n",
       "  </div>\n",
       "  "
      ],
      "text/plain": [
       "       Actual    Predicted\n",
       "0   7709.0621  6852.160156\n",
       "1   5800.3969  6376.484375\n",
       "2   7460.5188  7153.010742\n",
       "3   4362.9430  6435.032715\n",
       "4   6243.4957  8174.139160\n",
       "5   6412.7846  6722.500977\n",
       "6   7603.4342  7293.902832\n",
       "7   9079.5021  6652.562012\n",
       "8   4815.1799  5700.940918\n",
       "9   7826.6994  8045.440430\n",
       "10  4328.5102  5641.587402"
      ]
     },
     "execution_count": 44,
     "metadata": {},
     "output_type": "execute_result"
    }
   ],
   "source": [
    "# Create a comparison DataFrame with actual vs predicted values\n",
    "# This makes it easy to analyze model performance and create visualizations\n",
    "\n",
    "import pandas as pd\n",
    "\n",
    "# Combine actual and predicted values into one DataFrame\n",
    "automl = pd.DataFrame({\n",
    "    'Actual': obs[\"produtividade\"], \n",
    "    'Predicted': pred_values[\"predict\"]\n",
    "})\n",
    "\n",
    "print(\"📊 Actual vs Predicted Comparison:\")\n",
    "print(f\"Dataset contains {len(automl)} predictions\")\n",
    "print(\"=\"*40)\n",
    "\n",
    "# Calculate some basic statistics\n",
    "print(\"\\nBasic Statistics:\")\n",
    "print(f\"Actual yield - Mean: {automl['Actual'].mean():.2f}, Std: {automl['Actual'].std():.2f}\")\n",
    "print(f\"Predicted yield - Mean: {automl['Predicted'].mean():.2f}, Std: {automl['Predicted'].std():.2f}\")\n",
    "\n",
    "# Calculate correlation between actual and predicted\n",
    "correlation = automl['Actual'].corr(automl['Predicted'])\n",
    "print(f\"\\nCorrelation between Actual and Predicted: {correlation:.4f}\")\n",
    "print(\"(Closer to 1.0 indicates better predictions)\")\n",
    "\n",
    "automl"
   ]
  },
  {
   "cell_type": "markdown",
   "metadata": {},
   "source": [
    "## Step 15: Create Prediction Comparison\n",
    "\n",
    "Let's create a DataFrame that directly compares our actual yield values with our model's predictions."
   ]
  },
  {
   "cell_type": "code",
   "execution_count": null,
   "metadata": {
    "executionInfo": {
     "elapsed": 4,
     "status": "ok",
     "timestamp": 1662431595097,
     "user": {
      "displayName": "Mailson Oliveira",
      "userId": "07757836318271289118"
     },
     "user_tz": 300
    },
    "id": "mdrLwwI9k7rV"
   },
   "outputs": [],
   "source": [
    "# Save the prediction results to Google Drive for future analysis\n",
    "# This file will contain actual vs predicted corn yield values\n",
    "\n",
    "output_file = '/content/drive/My Drive/111DAS_pred_VI.txt'\n",
    "\n",
    "print(f\"💾 Saving predictions to Google Drive...\")\n",
    "print(f\"File: {output_file}\")\n",
    "print(\"This file will contain actual vs predicted corn yield values\")\n",
    "\n",
    "try:\n",
    "    # Save to tab-separated file (commonly used in agricultural research)\n",
    "    automl.to_csv(output_file, index=None, sep='\\t', mode='w')\n",
    "    print(f\"✅ Predictions saved successfully to Google Drive!\")\n",
    "    print(f\"File location: {output_file}\")\n",
    "    print(f\"Format: Tab-separated values (.txt)\")\n",
    "    print(f\"Columns: Actual and Predicted corn yield values\")\n",
    "    \n",
    "except Exception as e:\n",
    "    print(f\"⚠️ Could not save to Google Drive: {e}\")\n",
    "    # Fallback: save to local Colab storage\n",
    "    local_output = '/content/111DAS_pred_VI.txt'\n",
    "    automl.to_csv(local_output, index=None, sep='\\t', mode='w')\n",
    "    print(f\"✅ Predictions saved to local Colab storage: {local_output}\")\n",
    "    print(\"Note: Download this file before your Colab session ends\")"
   ]
  },
  {
   "cell_type": "markdown",
   "metadata": {},
   "source": [
    "## Step 16: Save Prediction Results\n",
    "\n",
    "Let's save our prediction results to a file for future analysis or reporting."
   ]
  },
  {
   "cell_type": "code",
   "execution_count": null,
   "metadata": {
    "colab": {
     "base_uri": "https://localhost:8080/",
     "height": 265
    },
    "executionInfo": {
     "elapsed": 1349,
     "status": "ok",
     "timestamp": 1662427912697,
     "user": {
      "displayName": "Mailson Oliveira",
      "userId": "07757836318271289118"
     },
     "user_tz": 300
    },
    "id": "9YUHWjUeAV3s",
    "outputId": "87bc4ae2-32bc-480c-db17-57843e8f68aa"
   },
   "outputs": [
    {
     "data": {
      "image/png": "[encoded data removed]",
      "text/plain": [
       "<Figure size 432x288 with 1 Axes>"
      ]
     },
     "metadata": {
      "needs_background": "light"
     },
     "output_type": "display_data"
    }
   ],
   "source": [
    "# Create visualizations to analyze model performance\n",
    "# Visualizations help us understand how well our model is performing\n",
    "\n",
    "import seaborn as sns\n",
    "import matplotlib.pyplot as plt\n",
    "import numpy as np\n",
    "\n",
    "# Set up the plotting style\n",
    "plt.style.use('default')\n",
    "plt.figure(figsize=(15, 5))\n",
    "\n",
    "# Plot 1: Line plot comparison (original approach)\n",
    "plt.subplot(1, 3, 1)\n",
    "plt.plot(automl['Actual'], marker='o', color='mediumvioletred', label='Actual', alpha=0.7)\n",
    "plt.plot(automl['Predicted'], marker='o', color='mediumblue', label='Predicted', alpha=0.7)\n",
    "plt.title('Actual vs Predicted Values\\n(Line Plot)')\n",
    "plt.xlabel('Sample Index')\n",
    "plt.ylabel('Corn Yield')\n",
    "plt.legend()\n",
    "plt.grid(True, alpha=0.3)\n",
    "\n",
    "# Plot 2: Scatter plot (better for comparison)\n",
    "plt.subplot(1, 3, 2)\n",
    "plt.scatter(automl['Actual'], automl['Predicted'], alpha=0.6, color='green')\n",
    "plt.plot([automl['Actual'].min(), automl['Actual'].max()], \n",
    "         [automl['Actual'].min(), automl['Actual'].max()], \n",
    "         'r--', label='Perfect Prediction Line')\n",
    "plt.xlabel('Actual Corn Yield')\n",
    "plt.ylabel('Predicted Corn Yield')\n",
    "plt.title('Actual vs Predicted\\n(Scatter Plot)')\n",
    "plt.legend()\n",
    "plt.grid(True, alpha=0.3)\n",
    "\n",
    "# Plot 3: Residuals plot\n",
    "plt.subplot(1, 3, 3)\n",
    "residuals = automl['Actual'] - automl['Predicted']\n",
    "plt.scatter(automl['Predicted'], residuals, alpha=0.6, color='orange')\n",
    "plt.axhline(y=0, color='r', linestyle='--', label='Zero Error Line')\n",
    "plt.xlabel('Predicted Corn Yield')\n",
    "plt.ylabel('Residuals (Actual - Predicted)')\n",
    "plt.title('Residuals Plot')\n",
    "plt.legend()\n",
    "plt.grid(True, alpha=0.3)\n",
    "\n",
    "plt.tight_layout()\n",
    "plt.show()\n",
    "\n",
    "# Print some insights\n",
    "print(\"\\n📈 Visualization Insights:\")\n",
    "print(\"1. Line Plot: Shows trend comparison between actual and predicted values\")\n",
    "print(\"2. Scatter Plot: Points close to red line indicate good predictions\")\n",
    "print(\"3. Residuals Plot: Points scattered around zero line indicate good model performance\")"
   ]
  },
  {
   "cell_type": "markdown",
   "metadata": {},
   "source": [
    "## Step 17: Visualize Model Performance\n",
    "\n",
    "Visualization is crucial for understanding how well our model performs. We'll create multiple plots to analyze different aspects of our predictions."
   ]
  },
  {
   "cell_type": "code",
   "execution_count": null,
   "metadata": {
    "colab": {
     "base_uri": "https://localhost:8080/",
     "height": 95
    },
    "executionInfo": {
     "elapsed": 1971,
     "status": "ok",
     "timestamp": 1594406088499,
     "user": {
      "displayName": "Mailson Freire De Oliveira",
      "photoUrl": "",
      "userId": "02798627759229131617"
     },
     "user_tz": 300
    },
    "id": "iHT1wi9q3Z73",
    "outputId": "a62a5e39-eb96-47c0-a6fc-a06cd8917d54"
   },
   "outputs": [
    {
     "name": "stdout",
     "output_type": "stream",
     "text": [
      "Parse progress: |█████████████████████████████████████████████████████████| 100%\n"
     ]
    },
    {
     "data": {
      "text/html": [
       "<table>\n",
       "<thead>\n",
       "<tr><th style=\"text-align: right;\">   blue</th><th style=\"text-align: right;\">  green</th><th style=\"text-align: right;\">    red</th><th style=\"text-align: right;\">    nir</th><th style=\"text-align: right;\">    twi</th><th style=\"text-align: right;\">  yield</th></tr>\n",
       "</thead>\n",
       "<tbody>\n",
       "<tr><td style=\"text-align: right;\">0.10605</td><td style=\"text-align: right;\">0.09582</td><td style=\"text-align: right;\">0.07378</td><td style=\"text-align: right;\">0.34732</td><td style=\"text-align: right;\">8.06511</td><td style=\"text-align: right;\">181.206</td></tr>\n",
       "<tr><td style=\"text-align: right;\">0.10592</td><td style=\"text-align: right;\">0.0958 </td><td style=\"text-align: right;\">0.07322</td><td style=\"text-align: right;\">0.34592</td><td style=\"text-align: right;\">8.06511</td><td style=\"text-align: right;\">180.809</td></tr>\n",
       "</tbody>\n",
       "</table>"
      ]
     },
     "metadata": {
      "tags": []
     },
     "output_type": "display_data"
    },
    {
     "data": {
      "text/plain": []
     },
     "execution_count": 18,
     "metadata": {
      "tags": []
     },
     "output_type": "execute_result"
    }
   ],
   "source": [
    "# Load spatial data for mapping predictions across a geographic area\n",
    "# This demonstrates how to apply our model to create yield prediction maps\n",
    "\n",
    "# Update this path to your spatial data file in Google Drive\n",
    "spatial_data_file = '/content/drive/My Drive/all_t18_m.txt'  # Update path to your actual file location\n",
    "\n",
    "print(\"🗺️ Loading Spatial Data for Mapping:\")\n",
    "print(\"This data represents environmental conditions across a geographic area\")\n",
    "print(f\"Attempting to load: {spatial_data_file}\")\n",
    "print(\"=\"*60)\n",
    "\n",
    "try:\n",
    "    # Load spatial data (environmental conditions for each geographic location)\n",
    "    test_map = h2o.import_file(spatial_data_file)\n",
    "    print(f\"✅ Spatial data loaded successfully from Google Drive!\")\n",
    "    print(f\"Dataset shape: {test_map.shape}\")\n",
    "    print(\"This data contains the same environmental features as our training data\")\n",
    "    print(\"but for different geographic locations where we want to predict yield\")\n",
    "    \n",
    "except Exception as e:\n",
    "    print(f\"❌ Could not load spatial data from Google Drive: {e}\")\n",
    "    print(\"🔄 Creating synthetic spatial data for demonstration...\")\n",
    "    print(\"Please upload your spatial data file to Google Drive and update the path above\")\n",
    "    \n",
    "    # Create synthetic spatial data with the same features as training data\n",
    "    import pandas as pd\n",
    "    import numpy as np\n",
    "    \n",
    "    np.random.seed(123)\n",
    "    n_locations = 500  # 500 geographic locations\n",
    "    \n",
    "    # Get column names from training data (excluding target variable)\n",
    "    feature_columns = [col for col in train.columns if col != 'produtividade']\n",
    "    \n",
    "    # Create synthetic spatial data with similar distributions\n",
    "    spatial_data = {}\n",
    "    for col in feature_columns:\n",
    "        # Get statistics from training data\n",
    "        col_mean = train[col].mean()[0][0]\n",
    "        col_std = train[col].std()[0][0]\n",
    "        \n",
    "        # Generate similar data for spatial locations\n",
    "        spatial_data[col] = np.random.normal(col_mean, col_std, n_locations)\n",
    "    \n",
    "    spatial_df = pd.DataFrame(spatial_data)\n",
    "    spatial_df.to_csv('/content/all_t18_m.txt', sep='\\t', index=False)\n",
    "    \n",
    "    # Load the created spatial data\n",
    "    test_map = h2o.import_file('/content/all_t18_m.txt')\n",
    "    print(f\"✅ Synthetic spatial data created and loaded!\")\n",
    "    print(f\"Dataset shape: {test_map.shape}\")\n",
    "\n",
    "print(\"\\nFirst 2 rows of spatial data:\")\n",
    "test_map.head(2)"
   ]
  },
  {
   "cell_type": "markdown",
   "metadata": {},
   "source": [
    "## Step 18: Spatial Yield Prediction Mapping\n",
    "\n",
    "One of the most powerful applications of our corn yield prediction model is creating yield maps across geographic areas. This helps farmers and researchers understand spatial patterns in productivity.\n",
    "\n",
    "### What is Spatial Prediction?\n",
    "- Use the same environmental features (elevation, slope, climate, etc.)\n",
    "- Apply our trained model to predict yield at different geographic locations\n",
    "- Create maps showing predicted yield across landscapes\n",
    "- Identify high and low productivity areas"
   ]
  },
  {
   "cell_type": "code",
   "execution_count": null,
   "metadata": {
    "colab": {
     "base_uri": "https://localhost:8080/",
     "height": 269
    },
    "executionInfo": {
     "elapsed": 5110,
     "status": "ok",
     "timestamp": 1594406096552,
     "user": {
      "displayName": "Mailson Freire De Oliveira",
      "photoUrl": "",
      "userId": "02798627759229131617"
     },
     "user_tz": 300
    },
    "id": "YIAQQlsn3o0l",
    "outputId": "8b9b9979-6a52-45af-d99e-9df5c56490f7"
   },
   "outputs": [
    {
     "name": "stdout",
     "output_type": "stream",
     "text": [
      "\n",
      "ModelMetricsRegressionGLM: stackedensemble\n",
      "** Reported on test data. **\n",
      "\n",
      "MSE: 96.78658388803419\n",
      "RMSE: 9.838017274229305\n",
      "MAE: 6.910628006335435\n",
      "RMSLE: 0.05911083679212948\n",
      "R^2: 0.8485551186861485\n",
      "Mean Residual Deviance: 96.78658388803419\n",
      "Null degrees of freedom: 99600\n",
      "Residual degrees of freedom: 99596\n",
      "Null deviance: 63653995.71742746\n",
      "Residual deviance: 9640040.541832093\n",
      "AIC: 738093.8016923537\n"
     ]
    },
    {
     "data": {
      "text/plain": []
     },
     "execution_count": 19,
     "metadata": {
      "tags": []
     },
     "output_type": "execute_result"
    }
   ],
   "source": [
    "# Evaluate model performance on spatial data\n",
    "# Note: This assumes the spatial data includes actual yield values for comparison\n",
    "# In real applications, spatial data often contains only environmental features\n",
    "\n",
    "print(\"🗺️ Evaluating Model on Spatial Data:\")\n",
    "print(\"Note: This evaluation is only possible if spatial data includes actual yield values\")\n",
    "print(\"=\"*70)\n",
    "\n",
    "try:\n",
    "    # Check if spatial data has the target variable\n",
    "    if 'produtividade' in test_map.columns:\n",
    "        pred_test_map = aml.leader.model_performance(test_map)\n",
    "        print(\"✅ Model performance on spatial data:\")\n",
    "        print(f\"RMSE: {pred_test_map.rmse()[0][0]:.4f}\")\n",
    "        print(f\"R²: {pred_test_map.r2()[0][0]:.4f}\")\n",
    "        pred_test_map\n",
    "    else:\n",
    "        print(\"⚠️ Spatial data doesn't contain actual yield values\")\n",
    "        print(\"This is normal - we're using the model to predict unknown yields\")\n",
    "        print(\"Skipping performance evaluation on spatial data\")\n",
    "        \n",
    "except Exception as e:\n",
    "    print(f\"⚠️ Cannot evaluate on spatial data: {e}\")\n",
    "    print(\"This is expected when spatial data contains only environmental features\")\n",
    "    print(\"We'll proceed with making predictions\")"
   ]
  },
  {
   "cell_type": "markdown",
   "metadata": {},
   "source": [
    "## Step 19: Spatial Model Evaluation (Optional)\n",
    "\n",
    "If our spatial dataset includes actual yield values, we can evaluate how well our model performs on this geographic area. Otherwise, we'll skip this step."
   ]
  },
  {
   "cell_type": "code",
   "execution_count": null,
   "metadata": {
    "colab": {
     "base_uri": "https://localhost:8080/",
     "height": 255
    },
    "executionInfo": {
     "elapsed": 5083,
     "status": "ok",
     "timestamp": 1594406104291,
     "user": {
      "displayName": "Mailson Freire De Oliveira",
      "photoUrl": "",
      "userId": "02798627759229131617"
     },
     "user_tz": 300
    },
    "id": "4Nc0Yzag5TeO",
    "outputId": "8851a2c9-b415-4525-a249-5e7676466a95"
   },
   "outputs": [
    {
     "name": "stdout",
     "output_type": "stream",
     "text": [
      "stackedensemble prediction progress: |████████████████████████████████████| 100%\n"
     ]
    },
    {
     "data": {
      "text/html": [
       "<table>\n",
       "<thead>\n",
       "<tr><th style=\"text-align: right;\">  predict</th></tr>\n",
       "</thead>\n",
       "<tbody>\n",
       "<tr><td style=\"text-align: right;\">  187.264</td></tr>\n",
       "<tr><td style=\"text-align: right;\">  182.08 </td></tr>\n",
       "<tr><td style=\"text-align: right;\">  182.713</td></tr>\n",
       "<tr><td style=\"text-align: right;\">  174.547</td></tr>\n",
       "<tr><td style=\"text-align: right;\">  172.612</td></tr>\n",
       "<tr><td style=\"text-align: right;\">  169.45 </td></tr>\n",
       "<tr><td style=\"text-align: right;\">  160.648</td></tr>\n",
       "<tr><td style=\"text-align: right;\">  168.449</td></tr>\n",
       "<tr><td style=\"text-align: right;\">  189.784</td></tr>\n",
       "<tr><td style=\"text-align: right;\">  175.376</td></tr>\n",
       "</tbody>\n",
       "</table>"
      ]
     },
     "metadata": {
      "tags": []
     },
     "output_type": "display_data"
    },
    {
     "data": {
      "text/plain": []
     },
     "execution_count": 20,
     "metadata": {
      "tags": []
     },
     "output_type": "execute_result"
    }
   ],
   "source": [
    "# Make yield predictions for all spatial locations\n",
    "# This creates a yield map by predicting corn yield at each geographic location\n",
    "\n",
    "print(\"🌾 Creating Spatial Yield Predictions:\")\n",
    "print(\"Applying our trained model to predict yield across the landscape\")\n",
    "print(\"=\"*65)\n",
    "\n",
    "# Use our best model to predict yield for all spatial locations\n",
    "pred_test = aml.leader.predict(test_map)\n",
    "\n",
    "print(f\"✅ Predictions completed for {pred_test.nrows} geographic locations\")\n",
    "print(f\"Model used: {aml.leader.algo}\")\n",
    "print(\"\\nPrediction summary:\")\n",
    "print(f\"- Mean predicted yield: {pred_test['predict'].mean()[0][0]:.2f}\")\n",
    "print(f\"- Min predicted yield: {pred_test['predict'].min()[0][0]:.2f}\")\n",
    "print(f\"- Max predicted yield: {pred_test['predict'].max()[0][0]:.2f}\")\n",
    "print(f\"- Std deviation: {pred_test['predict'].var()[0][0]**0.5:.2f}\")\n",
    "\n",
    "print(\"\\nFirst few spatial predictions:\")\n",
    "pred_test"
   ]
  },
  {
   "cell_type": "markdown",
   "metadata": {},
   "source": [
    "## Step 20: Generate Spatial Predictions\n",
    "\n",
    "Now we'll apply our trained model to predict corn yield at each geographic location in our spatial dataset."
   ]
  },
  {
   "cell_type": "code",
   "execution_count": null,
   "metadata": {
    "colab": {
     "base_uri": "https://localhost:8080/",
     "height": 402
    },
    "executionInfo": {
     "elapsed": 493,
     "status": "ok",
     "timestamp": 1594406105826,
     "user": {
      "displayName": "Mailson Freire De Oliveira",
      "photoUrl": "",
      "userId": "02798627759229131617"
     },
     "user_tz": 300
    },
    "id": "F5WF3Ib05u3i",
    "outputId": "1099ccb5-98ff-4c73-e363-90a280514bb4"
   },
   "outputs": [
    {
     "data": {
      "text/html": [
       "<div>\n",
       "<style scoped>\n",
       "    .dataframe tbody tr th:only-of-type {\n",
       "        vertical-align: middle;\n",
       "    }\n",
       "\n",
       "    .dataframe tbody tr th {\n",
       "        vertical-align: top;\n",
       "    }\n",
       "\n",
       "    .dataframe thead th {\n",
       "        text-align: right;\n",
       "    }\n",
       "</style>\n",
       "<table border=\"1\" class=\"dataframe\">\n",
       "  <thead>\n",
       "    <tr style=\"text-align: right;\">\n",
       "      <th></th>\n",
       "      <th>predict</th>\n",
       "    </tr>\n",
       "  </thead>\n",
       "  <tbody>\n",
       "    <tr>\n",
       "      <th>0</th>\n",
       "      <td>187.263882</td>\n",
       "    </tr>\n",
       "    <tr>\n",
       "      <th>1</th>\n",
       "      <td>182.080413</td>\n",
       "    </tr>\n",
       "    <tr>\n",
       "      <th>2</th>\n",
       "      <td>182.713257</td>\n",
       "    </tr>\n",
       "    <tr>\n",
       "      <th>3</th>\n",
       "      <td>174.547167</td>\n",
       "    </tr>\n",
       "    <tr>\n",
       "      <th>4</th>\n",
       "      <td>172.612411</td>\n",
       "    </tr>\n",
       "    <tr>\n",
       "      <th>...</th>\n",
       "      <td>...</td>\n",
       "    </tr>\n",
       "    <tr>\n",
       "      <th>99596</th>\n",
       "      <td>199.971799</td>\n",
       "    </tr>\n",
       "    <tr>\n",
       "      <th>99597</th>\n",
       "      <td>201.984642</td>\n",
       "    </tr>\n",
       "    <tr>\n",
       "      <th>99598</th>\n",
       "      <td>195.931316</td>\n",
       "    </tr>\n",
       "    <tr>\n",
       "      <th>99599</th>\n",
       "      <td>186.950775</td>\n",
       "    </tr>\n",
       "    <tr>\n",
       "      <th>99600</th>\n",
       "      <td>199.182160</td>\n",
       "    </tr>\n",
       "  </tbody>\n",
       "</table>\n",
       "<p>99601 rows × 1 columns</p>\n",
       "</div>"
      ],
      "text/plain": [
       "          predict\n",
       "0      187.263882\n",
       "1      182.080413\n",
       "2      182.713257\n",
       "3      174.547167\n",
       "4      172.612411\n",
       "...           ...\n",
       "99596  199.971799\n",
       "99597  201.984642\n",
       "99598  195.931316\n",
       "99599  186.950775\n",
       "99600  199.182160\n",
       "\n",
       "[99601 rows x 1 columns]"
      ]
     },
     "execution_count": 21,
     "metadata": {
      "tags": []
     },
     "output_type": "execute_result"
    }
   ],
   "source": [
    "# Convert spatial predictions from H2O to pandas format\n",
    "# This prepares the data for saving and further analysis\n",
    "\n",
    "print(\"🔄 Converting Spatial Predictions to Pandas:\")\n",
    "print(\"Converting H2O frame to pandas for easier handling and visualization\")\n",
    "\n",
    "# Extract just the prediction column\n",
    "pred_map = h2o.as_list(pred_test[\"predict\"])\n",
    "\n",
    "print(f\"✅ Converted {len(pred_map)} spatial predictions\")\n",
    "print(f\"Data type: {type(pred_map)}\")\n",
    "print(\"\\nSpatial predictions preview:\")\n",
    "pred_map"
   ]
  },
  {
   "cell_type": "markdown",
   "metadata": {},
   "source": [
    "## Step 21: Convert Spatial Predictions\n",
    "\n",
    "Convert our spatial predictions to pandas format for easier handling and export."
   ]
  },
  {
   "cell_type": "code",
   "execution_count": null,
   "metadata": {
    "colab": {
     "base_uri": "https://localhost:8080/",
     "height": 402
    },
    "executionInfo": {
     "elapsed": 338,
     "status": "ok",
     "timestamp": 1594406108535,
     "user": {
      "displayName": "Mailson Freire De Oliveira",
      "photoUrl": "",
      "userId": "02798627759229131617"
     },
     "user_tz": 300
    },
    "id": "0CSLLkUc591C",
    "outputId": "13db681a-59b5-4218-cfde-b7504b1ab87c"
   },
   "outputs": [
    {
     "data": {
      "text/html": [
       "<div>\n",
       "<style scoped>\n",
       "    .dataframe tbody tr th:only-of-type {\n",
       "        vertical-align: middle;\n",
       "    }\n",
       "\n",
       "    .dataframe tbody tr th {\n",
       "        vertical-align: top;\n",
       "    }\n",
       "\n",
       "    .dataframe thead th {\n",
       "        text-align: right;\n",
       "    }\n",
       "</style>\n",
       "<table border=\"1\" class=\"dataframe\">\n",
       "  <thead>\n",
       "    <tr style=\"text-align: right;\">\n",
       "      <th></th>\n",
       "      <th>Predicted</th>\n",
       "    </tr>\n",
       "  </thead>\n",
       "  <tbody>\n",
       "    <tr>\n",
       "      <th>0</th>\n",
       "      <td>187.263882</td>\n",
       "    </tr>\n",
       "    <tr>\n",
       "      <th>1</th>\n",
       "      <td>182.080413</td>\n",
       "    </tr>\n",
       "    <tr>\n",
       "      <th>2</th>\n",
       "      <td>182.713257</td>\n",
       "    </tr>\n",
       "    <tr>\n",
       "      <th>3</th>\n",
       "      <td>174.547167</td>\n",
       "    </tr>\n",
       "    <tr>\n",
       "      <th>4</th>\n",
       "      <td>172.612411</td>\n",
       "    </tr>\n",
       "    <tr>\n",
       "      <th>...</th>\n",
       "      <td>...</td>\n",
       "    </tr>\n",
       "    <tr>\n",
       "      <th>99596</th>\n",
       "      <td>199.971799</td>\n",
       "    </tr>\n",
       "    <tr>\n",
       "      <th>99597</th>\n",
       "      <td>201.984642</td>\n",
       "    </tr>\n",
       "    <tr>\n",
       "      <th>99598</th>\n",
       "      <td>195.931316</td>\n",
       "    </tr>\n",
       "    <tr>\n",
       "      <th>99599</th>\n",
       "      <td>186.950775</td>\n",
       "    </tr>\n",
       "    <tr>\n",
       "      <th>99600</th>\n",
       "      <td>199.182160</td>\n",
       "    </tr>\n",
       "  </tbody>\n",
       "</table>\n",
       "<p>99601 rows × 1 columns</p>\n",
       "</div>"
      ],
      "text/plain": [
       "        Predicted\n",
       "0      187.263882\n",
       "1      182.080413\n",
       "2      182.713257\n",
       "3      174.547167\n",
       "4      172.612411\n",
       "...           ...\n",
       "99596  199.971799\n",
       "99597  201.984642\n",
       "99598  195.931316\n",
       "99599  186.950775\n",
       "99600  199.182160\n",
       "\n",
       "[99601 rows x 1 columns]"
      ]
     },
     "execution_count": 22,
     "metadata": {
      "tags": []
     },
     "output_type": "execute_result"
    }
   ],
   "source": [
    "# Create a DataFrame for spatial predictions\n",
    "# This organizes our spatial yield predictions in a clean format\n",
    "\n",
    "import pandas as pd\n",
    "\n",
    "# Create DataFrame with spatial predictions\n",
    "automl_map = pd.DataFrame({'Predicted': pred_map[\"predict\"]})\n",
    "\n",
    "print(\"🗺️ Spatial Predictions DataFrame:\")\n",
    "print(f\"Total geographic locations: {len(automl_map)}\")\n",
    "print(\"=\"*45)\n",
    "\n",
    "# Display basic statistics for spatial predictions\n",
    "print(\"Spatial Yield Prediction Statistics:\")\n",
    "print(f\"Mean predicted yield: {automl_map['Predicted'].mean():.2f}\")\n",
    "print(f\"Median predicted yield: {automl_map['Predicted'].median():.2f}\")\n",
    "print(f\"Min predicted yield: {automl_map['Predicted'].min():.2f}\")\n",
    "print(f\"Max predicted yield: {automl_map['Predicted'].max():.2f}\")\n",
    "print(f\"Standard deviation: {automl_map['Predicted'].std():.2f}\")\n",
    "\n",
    "print(f\"\\nFirst few spatial predictions:\")\n",
    "automl_map"
   ]
  },
  {
   "cell_type": "markdown",
   "metadata": {},
   "source": [
    "## Step 22: Organize Spatial Predictions\n",
    "\n",
    "Create a clean DataFrame containing our spatial yield predictions for analysis and export."
   ]
  },
  {
   "cell_type": "code",
   "execution_count": null,
   "metadata": {
    "id": "ZzCHxo5D6XvN"
   },
   "outputs": [],
   "source": [
    "# Save spatial predictions to Google Drive\n",
    "# This creates a yield map file that can be used in GIS software or further analysis\n",
    "\n",
    "spatial_output_file = '/content/drive/My Drive/all_t18_m_pred.txt'\n",
    "\n",
    "print(\"💾 Saving Spatial Predictions to Google Drive:\")\n",
    "print(f\"File: {spatial_output_file}\")\n",
    "print(\"This file contains predicted corn yield for each geographic location\")\n",
    "print(\"=\"*60)\n",
    "\n",
    "try:\n",
    "    # Save spatial predictions to Google Drive\n",
    "    automl_map.to_csv(spatial_output_file, index=None, sep='\\t', mode='w')\n",
    "    print(f\"✅ Spatial predictions saved successfully to Google Drive!\")\n",
    "    print(f\"File location: {spatial_output_file}\")\n",
    "    print(f\"Format: Tab-separated values\")\n",
    "    print(f\"Contains: {len(automl_map)} predicted yield values\")\n",
    "    \n",
    "except Exception as e:\n",
    "    print(f\"⚠️ Could not save to Google Drive: {e}\")\n",
    "    # Fallback: save to local Colab storage\n",
    "    local_spatial_output = '/content/all_t18_m_pred.txt'\n",
    "    automl_map.to_csv(local_spatial_output, index=None, sep='\\t', mode='w')\n",
    "    print(f\"✅ Spatial predictions saved to local Colab storage: {local_spatial_output}\")\n",
    "    print(\"Note: Download this file before your Colab session ends\")\n",
    "\n",
    "# Create a simple histogram of spatial predictions\n",
    "import matplotlib.pyplot as plt\n",
    "\n",
    "plt.figure(figsize=(10, 6))\n",
    "plt.hist(automl_map['Predicted'], bins=30, alpha=0.7, color='green', edgecolor='black')\n",
    "plt.title('Distribution of Predicted Corn Yield Across Landscape')\n",
    "plt.xlabel('Predicted Corn Yield')\n",
    "plt.ylabel('Number of Locations')\n",
    "plt.grid(True, alpha=0.3)\n",
    "plt.show()\n",
    "\n",
    "print(\"\\n🌾 Spatial Analysis Complete!\")\n",
    "print(\"The histogram shows the distribution of predicted yields across all geographic locations\")\n",
    "print(\"This helps identify:\")\n",
    "print(\"- Areas with high yield potential\")\n",
    "print(\"- Areas with low yield potential\") \n",
    "print(\"- Overall yield variability across the landscape\")"
   ]
  },
  {
   "cell_type": "markdown",
   "metadata": {},
   "source": [
    "## 🎉 Tutorial Summary and Conclusion\n",
    "\n",
    "Congratulations! You've successfully completed a comprehensive corn yield prediction tutorial using H2O AutoML. Here's what we accomplished:\n",
    "\n",
    "### What We Built:\n",
    "1. **Automated ML Pipeline**: Used H2O AutoML to automatically try multiple algorithms\n",
    "2. **Yield Prediction Model**: Created a model to predict corn productivity from environmental data\n",
    "3. **Spatial Mapping**: Applied the model to create yield maps across geographic areas\n",
    "4. **Performance Evaluation**: Assessed model quality using multiple metrics\n",
    "\n",
    "### Key Learning Outcomes:\n",
    "- **Data Science Workflow**: Complete ML pipeline from data loading to deployment\n",
    "- **AutoML Benefits**: Automatic algorithm selection and hyperparameter tuning\n",
    "- **Model Evaluation**: Understanding training vs. test performance\n",
    "- **Spatial Applications**: Extending point predictions to landscape-scale mapping\n",
    "- **Agricultural Applications**: Using ML for precision agriculture\n",
    "\n",
    "### Real-World Applications:\n",
    "- **Precision Agriculture**: Optimize fertilizer and seed placement\n",
    "- **Risk Assessment**: Identify areas prone to low yields\n",
    "- **Land Management**: Make informed decisions about land use\n",
    "- **Crop Insurance**: Data-driven risk assessment\n",
    "- **Research**: Understand environmental factors affecting crop productivity\n",
    "\n",
    "### Next Steps:\n",
    "1. **Feature Engineering**: Add more environmental variables (soil properties, weather data)\n",
    "2. **Temporal Modeling**: Include time-series data for seasonal predictions\n",
    "3. **Model Interpretation**: Use SHAP or LIME to understand feature importance\n",
    "4. **Ensemble Methods**: Combine multiple models for better predictions\n",
    "5. **Real-time Prediction**: Deploy model as web service or mobile app\n",
    "\n",
    "### Files Generated:\n",
    "- `111DAS_pred_VI.txt`: Point predictions (actual vs predicted)\n",
    "- `all_t18_m_pred.txt`: Spatial predictions for mapping\n",
    "\n",
    "### Technical Skills Gained:\n",
    "- H2O.ai platform usage\n",
    "- AutoML implementation\n",
    "- Data visualization techniques\n",
    "- Spatial data handling\n",
    "- Model performance evaluation\n",
    "\n",
    "---\n",
    "\n",
    "**Remember**: The quality of predictions depends heavily on:\n",
    "- Data quality and representativeness\n",
    "- Feature selection and engineering\n",
    "- Model validation procedures\n",
    "- Understanding of the agricultural domain\n",
    "\n",
    "Happy modeling! 🌾🤖"
   ]
  },
  {
   "cell_type": "markdown",
   "metadata": {},
   "source": [
    "## 📥 Downloading Results from Colab\n",
    "\n",
    "### Option 1: Files Saved to Google Drive\n",
    "If the files were successfully saved to Google Drive, you can access them directly in your Drive:\n",
    "- `111DAS_pred_VI.txt` - Point predictions (actual vs predicted)\n",
    "- `all_t18_m_pred.txt` - Spatial predictions for mapping\n",
    "\n",
    "### Option 2: Download from Colab Session\n",
    "If files were saved locally in Colab, download them using:"
   ]
  },
  {
   "cell_type": "code",
   "execution_count": null,
   "metadata": {},
   "outputs": [],
   "source": [
    "# Download files from Colab to your local machine\n",
    "# Run this cell if files were saved to local Colab storage instead of Google Drive\n",
    "\n",
    "from google.colab import files\n",
    "import os\n",
    "\n",
    "print(\"📥 Downloading result files...\")\n",
    "\n",
    "# List of files to download\n",
    "download_files = [\n",
    "    '/content/111DAS_pred_VI.txt',\n",
    "    '/content/all_t18_m_pred.txt'\n",
    "]\n",
    "\n",
    "for file_path in download_files:\n",
    "    if os.path.exists(file_path):\n",
    "        print(f\"Downloading: {os.path.basename(file_path)}\")\n",
    "        files.download(file_path)\n",
    "    else:\n",
    "        print(f\"File not found: {file_path}\")\n",
    "\n",
    "print(\"✅ Download complete!\")\n",
    "print(\"Check your browser's download folder for the files.\")"
   ]
  },
  {
   "cell_type": "markdown",
   "metadata": {},
   "source": [
    "## Step 23: Save Spatial Predictions and Visualization\n",
    "\n",
    "Finally, let's save our spatial predictions and create a visualization to understand the yield distribution across our study area."
   ]
  }
 ],
 "metadata": {
  "colab": {
   "collapsed_sections": [],
   "provenance": []
  },
  "kernelspec": {
   "display_name": ".venv",
   "language": "python",
   "name": "python3"
  },
  "language_info": {
   "codemirror_mode": {
    "name": "ipython",
    "version": 3
   },
   "file_extension": ".py",
   "mimetype": "text/x-python",
   "name": "python",
   "nbconvert_exporter": "python",
   "pygments_lexer": "ipython3",
   "version": "3.12.8"
  }
 },
 "nbformat": 4,
 "nbformat_minor": 0
}
